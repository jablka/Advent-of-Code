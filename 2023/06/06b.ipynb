{
 "cells": [
  {
   "cell_type": "code",
   "execution_count": 1,
   "metadata": {},
   "outputs": [],
   "source": [
    "import math"
   ]
  },
  {
   "cell_type": "code",
   "execution_count": 2,
   "metadata": {},
   "outputs": [],
   "source": [
    "s ='''\n",
    "Time:      71530\n",
    "Distance:  940200\n",
    "'''\n",
    "\n",
    "race_time = 71530\n",
    "race_distance_record = 940200"
   ]
  },
  {
   "cell_type": "code",
   "execution_count": 3,
   "metadata": {},
   "outputs": [
    {
     "data": {
      "text/plain": [
       "71503"
      ]
     },
     "execution_count": 3,
     "metadata": {},
     "output_type": "execute_result"
    }
   ],
   "source": [
    "charge = 0\n",
    "travelled = 0\n",
    "# race_time = 7; \n",
    "# race_distance_record = 9;\n",
    "options = 0\n",
    "for t in range(1,race_time): # 1...6 . one must charge at least 1ms, and 7 miliseconds is already too much (is already race over).\n",
    "    charge += 1 # mm/s ...(je vlastne rýchlosť) \n",
    "    travelled = charge*(race_time-t)\n",
    "    if travelled > race_distance_record:\n",
    "        # print(charge)\n",
    "        options += 1\n",
    "options # 71503. example"
   ]
  },
  {
   "cell_type": "code",
   "execution_count": 4,
   "metadata": {},
   "outputs": [],
   "source": [
    "s ='''\n",
    "Time:        49     78     79     80\n",
    "Distance:   298   1185   1066   1181\n",
    "'''\n",
    "\n",
    "race_time = 49_787_980\n",
    "race_distance_record = 298_118_510_661_181"
   ]
  },
  {
   "cell_type": "code",
   "execution_count": 5,
   "metadata": {},
   "outputs": [
    {
     "data": {
      "text/plain": [
       "35865985"
      ]
     },
     "execution_count": 5,
     "metadata": {},
     "output_type": "execute_result"
    }
   ],
   "source": [
    "charge = 0\n",
    "travelled = 0\n",
    "# race_time = 7; \n",
    "# race_distance_record = 9;\n",
    "options = 0\n",
    "for t in range(1,race_time): # 1...6 . one must charge at least 1ms, and 7 miliseconds is already too much (is already race over).\n",
    "    charge += 1 # mm/s ...(je vlastne rýchlosť) \n",
    "    travelled = charge*(race_time-t)\n",
    "    if travelled > race_distance_record:\n",
    "        # print(charge)\n",
    "        options += 1\n",
    "options # 35865985. input"
   ]
  },
  {
   "cell_type": "code",
   "execution_count": null,
   "metadata": {},
   "outputs": [],
   "source": [
    "# done."
   ]
  }
 ],
 "metadata": {
  "kernelspec": {
   "display_name": "Python 3",
   "language": "python",
   "name": "python3"
  },
  "language_info": {
   "codemirror_mode": {
    "name": "ipython",
    "version": 3
   },
   "file_extension": ".py",
   "mimetype": "text/x-python",
   "name": "python",
   "nbconvert_exporter": "python",
   "pygments_lexer": "ipython3",
   "version": "3.12.0"
  }
 },
 "nbformat": 4,
 "nbformat_minor": 2
}
