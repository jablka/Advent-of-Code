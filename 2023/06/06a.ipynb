{
 "cells": [
  {
   "cell_type": "code",
   "execution_count": null,
   "metadata": {},
   "outputs": [],
   "source": [
    "import math"
   ]
  },
  {
   "cell_type": "code",
   "execution_count": null,
   "metadata": {},
   "outputs": [],
   "source": [
    "# example\n",
    "s ='''\n",
    "Time:      7  15   30\n",
    "Distance:  9  40  200\n",
    "'''\n",
    "\n",
    "races_times = [7,15,30]\n",
    "races_distances = [9,40,200]"
   ]
  },
  {
   "cell_type": "code",
   "execution_count": null,
   "metadata": {},
   "outputs": [],
   "source": [
    "# input\n",
    "s ='''\n",
    "Time:        49     78     79     80\n",
    "Distance:   298   1185   1066   1181\n",
    "'''\n",
    "\n",
    "races_times = [49,78,79,80]\n",
    "races_distances = [298,1185,1066,1181]"
   ]
  },
  {
   "cell_type": "code",
   "execution_count": null,
   "metadata": {},
   "outputs": [],
   "source": [
    "result = []\n",
    "for race_time, race_distance_record in zip(races_times,races_distances):\n",
    "    charge = 0\n",
    "    travelled = 0\n",
    "    # race_time = 7; \n",
    "    # race_distance_record = 9;\n",
    "    options = 0\n",
    "    for t in range(1,race_time): # 1...6 . one must charge at least 1ms, and 7 miliseconds is already too much (is already race over).\n",
    "        charge += 1 # mm/s ...(je vlastne rýchlosť) \n",
    "        travelled = charge*(race_time-t)\n",
    "        if travelled > race_distance_record:\n",
    "            # print(charge)\n",
    "            options += 1\n",
    "    result.append(options)"
   ]
  },
  {
   "cell_type": "code",
   "execution_count": null,
   "metadata": {},
   "outputs": [
    {
     "data": {
      "text/plain": [
       "[34, 37, 44, 41]"
      ]
     },
     "metadata": {},
     "output_type": "display_data"
    }
   ],
   "source": [
    "result"
   ]
  },
  {
   "cell_type": "code",
   "execution_count": null,
   "metadata": {},
   "outputs": [
    {
     "data": {
      "text/plain": [
       "2269432"
      ]
     },
     "metadata": {},
     "output_type": "display_data"
    }
   ],
   "source": [
    "math.prod(result) # 2269432. input"
   ]
  },
  {
   "cell_type": "code",
   "execution_count": null,
   "metadata": {},
   "outputs": [],
   "source": [
    "# done"
   ]
  }
 ],
 "metadata": {
  "language_info": {
   "name": "python"
  }
 },
 "nbformat": 4,
 "nbformat_minor": 2
}
