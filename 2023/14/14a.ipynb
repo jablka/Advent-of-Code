{
 "cells": [
  {
   "cell_type": "code",
   "execution_count": null,
   "metadata": {},
   "outputs": [],
   "source": [
    "s = '''O....#....\n",
    "O.OO#....#\n",
    ".....##...\n",
    "OO.#O....O\n",
    ".O.....O#.\n",
    "O.#..O.#.#\n",
    "..O..#O..O\n",
    ".......O..\n",
    "#....###..\n",
    "#OO..#....'''\n",
    "\n",
    "s = s.splitlines()"
   ]
  },
  {
   "cell_type": "code",
   "execution_count": 2,
   "metadata": {},
   "outputs": [],
   "source": [
    "with open('input.txt') as f:\n",
    "    s = f.read()\n",
    "\n",
    "s = s.splitlines()"
   ]
  },
  {
   "cell_type": "code",
   "execution_count": 3,
   "metadata": {},
   "outputs": [],
   "source": [
    "dlzka_riadku = len(s[0])"
   ]
  },
  {
   "cell_type": "code",
   "execution_count": 4,
   "metadata": {},
   "outputs": [],
   "source": [
    "arr = []\n",
    "for i in range(dlzka_riadku):\n",
    "    vertikala = '#'\n",
    "    # vertikala = ''\n",
    "    for j in range(len(s)):\n",
    "        vertikala += s[j][i]\n",
    "    arr.append(vertikala)"
   ]
  },
  {
   "cell_type": "code",
   "execution_count": 5,
   "metadata": {},
   "outputs": [],
   "source": [
    "vystavba = []\n",
    "for a in arr:\n",
    "    arr2 = a.split('#')\n",
    "    # print(arr2)\n",
    "\n",
    "    arr3 = []    \n",
    "    for a2 in arr2:\n",
    "        velkost = len(a2)\n",
    "        if velkost>0:\n",
    "            a3 = (a2.count('O'))*'O'\n",
    "            a3 += (velkost-len(a3))*'.'\n",
    "        else:\n",
    "            a3 = ''\n",
    "        arr3.append(a3)\n",
    "    # print(len(arr3))\n",
    "    vystavba.append(arr3)"
   ]
  },
  {
   "cell_type": "code",
   "execution_count": 6,
   "metadata": {},
   "outputs": [],
   "source": [
    "stringy_bag = []\n",
    "for v in vystavba:\n",
    "    stringy = '#'.join(v)\n",
    "    # print(len(stringy))\n",
    "    stringy_bag.append(stringy)"
   ]
  },
  {
   "cell_type": "code",
   "execution_count": 7,
   "metadata": {},
   "outputs": [
    {
     "data": {
      "text/plain": [
       "109661"
      ]
     },
     "execution_count": 7,
     "metadata": {},
     "output_type": "execute_result"
    }
   ],
   "source": [
    "summa = 0\n",
    "for r in stringy_bag:\n",
    "    for i,particle in enumerate(r[::-1],1):\n",
    "        if particle=='O':\n",
    "            # print(i)\n",
    "            summa += i\n",
    "    # print()\n",
    "summa"
   ]
  },
  {
   "cell_type": "code",
   "execution_count": 8,
   "metadata": {},
   "outputs": [],
   "source": [
    "assert summa == 109661"
   ]
  },
  {
   "cell_type": "code",
   "execution_count": null,
   "metadata": {},
   "outputs": [],
   "source": [
    "# done."
   ]
  }
 ],
 "metadata": {
  "kernelspec": {
   "display_name": "Python 3",
   "language": "python",
   "name": "python3"
  },
  "language_info": {
   "codemirror_mode": {
    "name": "ipython",
    "version": 3
   },
   "file_extension": ".py",
   "mimetype": "text/x-python",
   "name": "python",
   "nbconvert_exporter": "python",
   "pygments_lexer": "ipython3",
   "version": "3.12.0"
  }
 },
 "nbformat": 4,
 "nbformat_minor": 2
}
