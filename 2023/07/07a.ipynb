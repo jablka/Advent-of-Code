{
 "cells": [
  {
   "cell_type": "code",
   "execution_count": 1,
   "metadata": {},
   "outputs": [],
   "source": [
    "import collections\n",
    "import operator"
   ]
  },
  {
   "cell_type": "code",
   "execution_count": 2,
   "metadata": {},
   "outputs": [
    {
     "data": {
      "text/plain": [
       "['32T3K 765', 'T55J5 684', 'KK677 28', 'KTJJT 220', 'QQQJA 483']"
      ]
     },
     "execution_count": 2,
     "metadata": {},
     "output_type": "execute_result"
    }
   ],
   "source": [
    "s = '''32T3K 765\n",
    "T55J5 684\n",
    "KK677 28\n",
    "KTJJT 220\n",
    "QQQJA 483'''\n",
    "\n",
    "lines = s.splitlines()\n",
    "lines"
   ]
  },
  {
   "cell_type": "code",
   "execution_count": 3,
   "metadata": {},
   "outputs": [],
   "source": [
    "with open('input.txt') as f:\n",
    "    s = f.read()\n",
    "\n",
    "lines = s.splitlines()"
   ]
  },
  {
   "cell_type": "code",
   "execution_count": null,
   "metadata": {},
   "outputs": [],
   "source": [
    "hands_bids = []\n",
    "for line in lines:\n",
    "    hand = line[:5]    \n",
    "    bid = line[6:]\n",
    "    hands_bids.append((hand,bid))    \n",
    "hands_bids"
   ]
  },
  {
   "cell_type": "code",
   "execution_count": 5,
   "metadata": {},
   "outputs": [],
   "source": [
    "# najskôr kategorizovať:\n",
    "# Five of a kind\n",
    "# Four of a kind\n",
    "# Full house\n",
    "# Three of a kind\n",
    "# Two pair\n",
    "# One pair\n",
    "# High card"
   ]
  },
  {
   "cell_type": "code",
   "execution_count": null,
   "metadata": {},
   "outputs": [],
   "source": [
    "hands_bids_2 = []\n",
    "for hand,bid in hands_bids:\n",
    "    poctar = collections.Counter(hand)\n",
    "    poctar_string = ''\n",
    "    for k in poctar:\n",
    "        poctar_string += str(poctar[k])    \n",
    "\n",
    "    l = sorted(poctar_string, reverse=True)\n",
    "    poctar_string = ''.join(l)\n",
    "\n",
    "    if poctar_string[0]=='5': # 5\n",
    "        print(f'{hand} ... {poctar_string} ... Five of a kind')\n",
    "        category = 700\n",
    "    elif poctar_string[0]=='4': # 41\n",
    "        print(f'{hand} ... {poctar_string} ... Four of a kind')\n",
    "        category = 600\n",
    "    elif poctar_string[0:2]=='32': # 32\n",
    "        print(f'{hand} ... {poctar_string} ... Full house')\n",
    "        category = 500        \n",
    "    elif poctar_string[0:2]=='31': # 311\n",
    "        print(f'{hand} ... {poctar_string} ... Three of a kind')\n",
    "        category = 400        \n",
    "    elif poctar_string[0:2]=='22': # 221\n",
    "        print(f'{hand} ... {poctar_string} ... Two pair')\n",
    "        category = 300        \n",
    "    elif poctar_string[0:2]=='21': # 2111\n",
    "        print(f'{hand} ... {poctar_string} ... One pair')\n",
    "        category = 200        \n",
    "    else: # 11111\n",
    "        print(f'{hand} ... {poctar_string} ... High card')    \n",
    "        category = 100        \n",
    "    \n",
    "    hands_bids_2.append([(hand,bid),category])\n",
    "hands_bids_2"
   ]
  },
  {
   "cell_type": "code",
   "execution_count": 7,
   "metadata": {},
   "outputs": [],
   "source": [
    "# ak máme rovnakú category, musíme ďalej rozlišovať:"
   ]
  },
  {
   "cell_type": "code",
   "execution_count": 8,
   "metadata": {},
   "outputs": [
    {
     "data": {
      "text/plain": [
       "[13, 12, 11, 10, 9, 8, 7, 6, 5, 4, 3, 2, 1]"
      ]
     },
     "execution_count": 8,
     "metadata": {},
     "output_type": "execute_result"
    }
   ],
   "source": [
    "cards = ['A', 'K', 'Q', 'J', 'T', '9', '8', '7', '6', '5', '4', '3', '2']\n",
    "list(range(len(cards),0,-1))"
   ]
  },
  {
   "cell_type": "code",
   "execution_count": 9,
   "metadata": {},
   "outputs": [
    {
     "data": {
      "text/plain": [
       "{'A': 13,\n",
       " 'K': 12,\n",
       " 'Q': 11,\n",
       " 'J': 10,\n",
       " 'T': 9,\n",
       " '9': 8,\n",
       " '8': 7,\n",
       " '7': 6,\n",
       " '6': 5,\n",
       " '5': 4,\n",
       " '4': 3,\n",
       " '3': 2,\n",
       " '2': 1}"
      ]
     },
     "execution_count": 9,
     "metadata": {},
     "output_type": "execute_result"
    }
   ],
   "source": [
    "cards_ranked = {}\n",
    "for k,v in zip(cards,range(len(cards),0,-1)):\n",
    "    cards_ranked[k]=v\n",
    "cards_ranked"
   ]
  },
  {
   "cell_type": "code",
   "execution_count": null,
   "metadata": {},
   "outputs": [],
   "source": [
    "hands_bids_3 = []\n",
    "for hand_bid,category in hands_bids_2:\n",
    "    transl = []\n",
    "    hand,bid = hand_bid\n",
    "    for card in hand: # hand_bid[0] je vlastne hand.\n",
    "        # print(card)\n",
    "        transl.append(cards_ranked[card])\n",
    "    hands_bids_3.append([hand_bid,category,transl])   \n",
    "hands_bids_3"
   ]
  },
  {
   "cell_type": "code",
   "execution_count": null,
   "metadata": {},
   "outputs": [],
   "source": [
    "hands_bids_3.sort(key=operator.itemgetter(1,2))\n",
    "hands_bids_3"
   ]
  },
  {
   "cell_type": "code",
   "execution_count": 12,
   "metadata": {},
   "outputs": [
    {
     "data": {
      "text/plain": [
       "246795406"
      ]
     },
     "execution_count": 12,
     "metadata": {},
     "output_type": "execute_result"
    }
   ],
   "source": [
    "summa = 0\n",
    "for i,v in enumerate(hands_bids_3,1):\n",
    "    summa += i*int(v[0][1]) # poradie * bid\n",
    "summa"
   ]
  },
  {
   "cell_type": "code",
   "execution_count": 13,
   "metadata": {},
   "outputs": [],
   "source": [
    "assert summa==246795406"
   ]
  },
  {
   "cell_type": "code",
   "execution_count": null,
   "metadata": {},
   "outputs": [],
   "source": [
    "# done"
   ]
  }
 ],
 "metadata": {
  "kernelspec": {
   "display_name": "Python 3",
   "language": "python",
   "name": "python3"
  },
  "language_info": {
   "codemirror_mode": {
    "name": "ipython",
    "version": 3
   },
   "file_extension": ".py",
   "mimetype": "text/x-python",
   "name": "python",
   "nbconvert_exporter": "python",
   "pygments_lexer": "ipython3",
   "version": "3.12.0"
  }
 },
 "nbformat": 4,
 "nbformat_minor": 2
}
