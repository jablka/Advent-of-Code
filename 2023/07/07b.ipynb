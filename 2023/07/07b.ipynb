{
 "cells": [
  {
   "cell_type": "code",
   "execution_count": 1,
   "metadata": {},
   "outputs": [],
   "source": [
    "import collections\n",
    "import operator"
   ]
  },
  {
   "cell_type": "code",
   "execution_count": 2,
   "metadata": {},
   "outputs": [
    {
     "data": {
      "text/plain": [
       "['32T3K 765', 'T55J5 684', 'KK677 28', 'KTJJT 220', 'QQQJA 483']"
      ]
     },
     "execution_count": 2,
     "metadata": {},
     "output_type": "execute_result"
    }
   ],
   "source": [
    "# example\n",
    "s = '''32T3K 765\n",
    "T55J5 684\n",
    "KK677 28\n",
    "KTJJT 220\n",
    "QQQJA 483'''\n",
    "\n",
    "lines = s.splitlines()\n",
    "lines"
   ]
  },
  {
   "cell_type": "code",
   "execution_count": 3,
   "metadata": {},
   "outputs": [],
   "source": [
    "# input\n",
    "with open('input.txt') as f:\n",
    "    s = f.read()\n",
    "\n",
    "lines = s.splitlines()"
   ]
  },
  {
   "cell_type": "code",
   "execution_count": null,
   "metadata": {},
   "outputs": [],
   "source": [
    "hands_bids = []\n",
    "for line in lines:\n",
    "    hand = line[:5]    \n",
    "    bid = line[6:]\n",
    "    hands_bids.append((hand,bid))    \n",
    "hands_bids"
   ]
  },
  {
   "cell_type": "code",
   "execution_count": 5,
   "metadata": {},
   "outputs": [
    {
     "data": {
      "text/plain": [
       "{'A': 13,\n",
       " 'K': 12,\n",
       " 'Q': 11,\n",
       " 'T': 10,\n",
       " '9': 9,\n",
       " '8': 8,\n",
       " '7': 7,\n",
       " '6': 6,\n",
       " '5': 5,\n",
       " '4': 4,\n",
       " '3': 3,\n",
       " '2': 2,\n",
       " 'J': 1}"
      ]
     },
     "execution_count": 5,
     "metadata": {},
     "output_type": "execute_result"
    }
   ],
   "source": [
    "# card2 ranks:\n",
    "cards2 = ['A', 'K', 'Q', 'T', '9', '8', '7', '6', '5', '4', '3', '2', 'J']\n",
    "# list(range(len(cards2),0,-1))\n",
    "\n",
    "cards2_ranked = {}\n",
    "for k,v in zip(cards2,range(len(cards2),0,-1)):\n",
    "    cards2_ranked[k]=v\n",
    "cards2_ranked"
   ]
  },
  {
   "cell_type": "code",
   "execution_count": 6,
   "metadata": {},
   "outputs": [],
   "source": [
    "# kategorizovať:\n",
    "# Five of a kind\n",
    "# Four of a kind\n",
    "# Full house\n",
    "# Three of a kind\n",
    "# Two pair\n",
    "# One pair\n",
    "# High card"
   ]
  },
  {
   "cell_type": "code",
   "execution_count": null,
   "metadata": {},
   "outputs": [],
   "source": [
    "hands_bids_2 = []\n",
    "for hand,bid in hands_bids:\n",
    "    hand : str = hand # just for type hints\n",
    "\n",
    "    hand_saving = hand # saving for later.\n",
    "    print(hand)\n",
    "    \n",
    "    jocker_count = hand.count('J')\n",
    "    if ('J' in hand) and (jocker_count<5): # 1 až 4 Jokerov\n",
    "    \n",
    "    # najskôr most commont, a potom najvyšší rank.\n",
    "\n",
    "        hand_mod = hand.replace('J','')\n",
    "        poctar = collections.Counter(hand_mod)\n",
    "        mlist = list(poctar.values())\n",
    "        # m_elem = list(poctar.elements())\n",
    "        m_elem = '' # spätne\n",
    "        for t in poctar.most_common():\n",
    "            m_elem += t[0]*t[1]\n",
    "\n",
    "        new_string = ''\n",
    "        print(poctar)\n",
    "        print('mlist',mlist)\n",
    "        if max(mlist)==min(mlist): # nerozhodné..., možno netreba.\n",
    "            print('nerozhodnute')\n",
    "            according_to_this = list(map(lambda x:cards2_ranked[x],m_elem))\n",
    "            according_to_this.sort(reverse=True)       \n",
    "\n",
    "            # teraz prehodiť list čísiel na string kariet.        \n",
    "            for acc in according_to_this:\n",
    "                for k in cards2_ranked:\n",
    "                    if cards2_ranked[k]==acc:\n",
    "                        new_string += k\n",
    "        else:\n",
    "            # new_string = ''.join(m_elem)\n",
    "            new_string = m_elem\n",
    "        print(new_string)\n",
    "        jj = jocker_count*new_string[0] # meníme počet jokerov na príslušné karty\n",
    "        new_string = jj+new_string; # vytvárame novú hand.\n",
    "        hand = new_string\n",
    "\n",
    "    poctar = collections.Counter(hand)\n",
    "    poctar_string = ''\n",
    "    for k in poctar:\n",
    "        poctar_string += str(poctar[k])    \n",
    "\n",
    "    l = sorted(poctar_string, reverse=True) # returns a list\n",
    "    poctar_string = ''.join(l) # converting back to string.\n",
    "\n",
    "    if poctar_string[0]=='5': # 5\n",
    "        print(f'{hand} ... {poctar_string} ... Five of a kind')\n",
    "        category = 700\n",
    "    elif poctar_string[0]=='4': # 41 (joker jasný -> 5)\n",
    "        print(f'{hand} ... {poctar_string} ... Four of a kind')\n",
    "        category = 600\n",
    "    elif poctar_string[0:2]=='32': # 32 (2x joker -> 5)\n",
    "        print(f'{hand} ... {poctar_string} ... Full house')\n",
    "        category = 500         \n",
    "    elif poctar_string[0:2]=='31': # 311 (joker jasny -> 41)\n",
    "        print(f'{hand} ... {poctar_string} ... Three of a kind')\n",
    "        category = 400        \n",
    "    elif poctar_string[0:2]=='22': # 221 (joker -> 32, ale musíme zvýšiť najvyššiu kartu)\n",
    "        print(f'{hand} ... {poctar_string} ... Two pair')\n",
    "        category = 300        \n",
    "    elif poctar_string[0:2]=='21': # 2111 (joker jasný -> 311)\n",
    "        print(f'{hand} ... {poctar_string} ... One pair')\n",
    "        category = 200        \n",
    "    else: # 11111   (joker -> 2111, ale musíme zvýšiť najvyššiu kartu)\n",
    "        print(f'{hand} ... {poctar_string} ... High card')    \n",
    "        category = 100        \n",
    "    \n",
    "    hands_bids_2.append([(hand_saving,bid),category])\n",
    "hands_bids_2"
   ]
  },
  {
   "cell_type": "code",
   "execution_count": 8,
   "metadata": {},
   "outputs": [],
   "source": [
    "# ak máme rovnakú category, musíme ďalej rozlišovať:"
   ]
  },
  {
   "cell_type": "code",
   "execution_count": null,
   "metadata": {},
   "outputs": [],
   "source": [
    "hands_bids_3 = []\n",
    "for hand_bid,category in hands_bids_2:\n",
    "    transl = []\n",
    "    hand,bid = hand_bid\n",
    "    for card in hand: # hand_bid[0] je vlastne hand.\n",
    "        # print(card)\n",
    "        transl.append(cards2_ranked[card])\n",
    "    hands_bids_3.append([hand_bid,category,transl])   \n",
    "hands_bids_3"
   ]
  },
  {
   "cell_type": "code",
   "execution_count": null,
   "metadata": {},
   "outputs": [],
   "source": [
    "hands_bids_3.sort(key=operator.itemgetter(1,2))\n",
    "hands_bids_3"
   ]
  },
  {
   "cell_type": "code",
   "execution_count": 11,
   "metadata": {},
   "outputs": [
    {
     "data": {
      "text/plain": [
       "249356515"
      ]
     },
     "execution_count": 11,
     "metadata": {},
     "output_type": "execute_result"
    }
   ],
   "source": [
    "summa = 0\n",
    "for i,v in enumerate(hands_bids_3,1):\n",
    "    summa += i*int(v[0][1]) # poradie * bid\n",
    "summa"
   ]
  },
  {
   "cell_type": "code",
   "execution_count": 12,
   "metadata": {},
   "outputs": [],
   "source": [
    "assert summa==249356515"
   ]
  },
  {
   "cell_type": "code",
   "execution_count": null,
   "metadata": {},
   "outputs": [],
   "source": [
    "# done"
   ]
  }
 ],
 "metadata": {
  "kernelspec": {
   "display_name": "Python 3",
   "language": "python",
   "name": "python3"
  },
  "language_info": {
   "codemirror_mode": {
    "name": "ipython",
    "version": 3
   },
   "file_extension": ".py",
   "mimetype": "text/x-python",
   "name": "python",
   "nbconvert_exporter": "python",
   "pygments_lexer": "ipython3",
   "version": "3.12.0"
  }
 },
 "nbformat": 4,
 "nbformat_minor": 2
}
