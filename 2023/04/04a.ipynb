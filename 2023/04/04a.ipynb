{
 "cells": [
  {
   "cell_type": "code",
   "execution_count": 1,
   "metadata": {},
   "outputs": [],
   "source": [
    "import re"
   ]
  },
  {
   "cell_type": "code",
   "execution_count": 2,
   "metadata": {},
   "outputs": [],
   "source": [
    "with open('input.txt') as f:\n",
    "    s = f.read()\n",
    "\n",
    "lines = s.splitlines()"
   ]
  },
  {
   "cell_type": "code",
   "execution_count": 3,
   "metadata": {},
   "outputs": [],
   "source": [
    "winning = [] # winning part\n",
    "w_w_h = [] # what_we_have part\n",
    "# 'Card 6: 31 18 13 56 72 | 74 77 10 23 35 67 36 11'\n",
    "\n",
    "for line in lines:\n",
    "    pat = r'\\d: (.+)\\|(.+)'\n",
    "    w_string, h_string = re.search(pat, line).groups()\n",
    "\n",
    "    pat = r'(\\d{1,2})'\n",
    "    winning_nums = set(re.findall(pat, w_string))\n",
    "    winning.append(winning_nums)    \n",
    "\n",
    "    w_w_h_nums = set(re.findall(pat, h_string))\n",
    "    w_w_h.append(w_w_h_nums)"
   ]
  },
  {
   "cell_type": "code",
   "execution_count": 4,
   "metadata": {},
   "outputs": [],
   "source": [
    "score = []\n",
    "for w,h in zip(winning,w_w_h):\n",
    "    tellme = w.intersection(h) # prienik množín\n",
    "    len_tellme = len(tellme)\n",
    "    if len_tellme==0:\n",
    "        score.append(0)\n",
    "    elif len_tellme==1:\n",
    "        score.append(1)\n",
    "    elif len_tellme>1:\n",
    "        score.append(pow(2,len_tellme-1))"
   ]
  },
  {
   "cell_type": "code",
   "execution_count": 5,
   "metadata": {},
   "outputs": [
    {
     "data": {
      "text/plain": [
       "25010"
      ]
     },
     "execution_count": 5,
     "metadata": {},
     "output_type": "execute_result"
    }
   ],
   "source": [
    "sum(score) # 25010"
   ]
  },
  {
   "cell_type": "code",
   "execution_count": null,
   "metadata": {},
   "outputs": [],
   "source": [
    "# done"
   ]
  }
 ],
 "metadata": {
  "kernelspec": {
   "display_name": "Python 3",
   "language": "python",
   "name": "python3"
  },
  "language_info": {
   "codemirror_mode": {
    "name": "ipython",
    "version": 3
   },
   "file_extension": ".py",
   "mimetype": "text/x-python",
   "name": "python",
   "nbconvert_exporter": "python",
   "pygments_lexer": "ipython3",
   "version": "3.12.0"
  }
 },
 "nbformat": 4,
 "nbformat_minor": 2
}
