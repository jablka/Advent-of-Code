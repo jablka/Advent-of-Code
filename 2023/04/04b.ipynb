{
 "cells": [
  {
   "cell_type": "code",
   "execution_count": null,
   "metadata": {},
   "outputs": [],
   "source": [
    "import re\n",
    "import pandas as pd"
   ]
  },
  {
   "cell_type": "code",
   "execution_count": null,
   "metadata": {},
   "outputs": [],
   "source": [
    "with open('input.txt') as f:\n",
    "    s = f.read()\n",
    "\n",
    "lines = s.splitlines()"
   ]
  },
  {
   "cell_type": "code",
   "execution_count": null,
   "metadata": {},
   "outputs": [],
   "source": [
    "winning = [] # winning part\n",
    "w_w_h = [] # what_we_have part\n",
    "# 'Card 6: 31 18 13 56 72 | 74 77 10 23 35 67 36 11'\n",
    "\n",
    "for line in lines:\n",
    "    pat = r'\\d: (.+)\\|(.+)'\n",
    "    w_string, h_string = re.search(pat, line).groups()\n",
    "\n",
    "    pat = r'(\\d{1,2})'\n",
    "    winning_nums = set(re.findall(pat, w_string))\n",
    "    winning.append(winning_nums)    \n",
    "\n",
    "    w_w_h_nums = set(re.findall(pat, h_string))\n",
    "    w_w_h.append(w_w_h_nums)"
   ]
  },
  {
   "cell_type": "code",
   "execution_count": null,
   "metadata": {},
   "outputs": [],
   "source": [
    "score = []\n",
    "for w,h in zip(winning,w_w_h):\n",
    "    tellme = w.intersection(h) # prienik množín\n",
    "    score.append(len(tellme))"
   ]
  },
  {
   "cell_type": "code",
   "execution_count": null,
   "metadata": {},
   "outputs": [],
   "source": [
    "card_instance = [1]*len(score)\n",
    "index = range(1,len(score)+1)"
   ]
  },
  {
   "cell_type": "code",
   "execution_count": null,
   "metadata": {},
   "outputs": [],
   "source": [
    "df = pd.DataFrame(zip(card_instance,score), index=index, columns=['instance','value'])"
   ]
  },
  {
   "cell_type": "code",
   "execution_count": null,
   "metadata": {},
   "outputs": [],
   "source": [
    "print(df)\n",
    "\n",
    "for i in df.index:\n",
    "    print()\n",
    "    print(i)\n",
    "\n",
    "    if df.loc[i,'value']>0:\n",
    "        odkial = (i+1)\n",
    "        pokial = (i)+df.loc[i,'value'] # df.loc[i,'value'] je hodnota koľko kariet vyhrávam.\n",
    "        print(odkial, pokial)\n",
    "\n",
    "        how_many_instances = df.loc[i,'instance'] # na začiatku je počet kariet 1, ale postupne ich môže byť viac\n",
    "\n",
    "        df.loc[odkial:pokial,'instance'] = df.loc[odkial:pokial,'instance']+how_many_instances # počet kariet\n",
    "\n",
    "    print(df)"
   ]
  },
  {
   "cell_type": "code",
   "execution_count": null,
   "metadata": {},
   "outputs": [
    {
     "data": {
      "text/plain": [
       "9924412"
      ]
     },
     "metadata": {},
     "output_type": "display_data"
    }
   ],
   "source": [
    "df.instance.sum() # 9924412"
   ]
  },
  {
   "cell_type": "code",
   "execution_count": null,
   "metadata": {},
   "outputs": [],
   "source": [
    "# done"
   ]
  }
 ],
 "metadata": {
  "language_info": {
   "name": "python"
  }
 },
 "nbformat": 4,
 "nbformat_minor": 2
}
