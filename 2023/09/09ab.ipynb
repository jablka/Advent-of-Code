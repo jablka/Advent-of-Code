{
 "cells": [
  {
   "cell_type": "code",
   "execution_count": 1,
   "metadata": {},
   "outputs": [],
   "source": [
    "import itertools"
   ]
  },
  {
   "cell_type": "code",
   "execution_count": 2,
   "metadata": {},
   "outputs": [
    {
     "data": {
      "text/plain": [
       "['0 3 6 9 12 15', '1 3 6 10 15 21', '10 13 16 21 30 45']"
      ]
     },
     "execution_count": 2,
     "metadata": {},
     "output_type": "execute_result"
    }
   ],
   "source": [
    "s = '''0 3 6 9 12 15\n",
    "1 3 6 10 15 21\n",
    "10 13 16 21 30 45'''\n",
    "\n",
    "lines = s.splitlines()\n",
    "lines"
   ]
  },
  {
   "cell_type": "code",
   "execution_count": 3,
   "metadata": {},
   "outputs": [],
   "source": [
    "with open('input.txt') as f:\n",
    "    s = f.read()\n",
    "\n",
    "lines = s.splitlines()"
   ]
  },
  {
   "cell_type": "code",
   "execution_count": 4,
   "metadata": {},
   "outputs": [],
   "source": [
    "sequences = [] \n",
    "for line in lines:\n",
    "    arr = line.split(' ')\n",
    "    arr = list(map(int, arr)) # converting to list of integers\n",
    "    sequences.append(arr)"
   ]
  },
  {
   "cell_type": "code",
   "execution_count": 5,
   "metadata": {},
   "outputs": [],
   "source": [
    "rozlozene  = []\n",
    "for arr in sequences:\n",
    "    flag = True\n",
    "    roz = [] # zásobník pre jednotlivý rozložený riadok\n",
    "    roz.append(arr) # ukladáme počiatočný riadok\n",
    "    while flag:\n",
    "        new_arr = []\n",
    "        for i in itertools.pairwise(arr):\n",
    "            new_arr.append(i[1]-i[0])\n",
    "        roz.append(new_arr)\n",
    "        if not any(new_arr):\n",
    "            flag = False\n",
    "        arr = new_arr\n",
    "    rozlozene.append(roz) # pole zásobníkov"
   ]
  },
  {
   "cell_type": "code",
   "execution_count": 6,
   "metadata": {},
   "outputs": [],
   "source": [
    "# print(rozlozene)"
   ]
  },
  {
   "cell_type": "markdown",
   "metadata": {},
   "source": [
    "Part1:"
   ]
  },
  {
   "cell_type": "code",
   "execution_count": 7,
   "metadata": {},
   "outputs": [
    {
     "data": {
      "text/plain": [
       "1992273652"
      ]
     },
     "execution_count": 7,
     "metadata": {},
     "output_type": "execute_result"
    }
   ],
   "source": [
    "summa = 0\n",
    "for roz in rozlozene:\n",
    "    for r in roz:\n",
    "        summa += r[-1] # sčítavam poslené čísla v poli\n",
    "summa"
   ]
  },
  {
   "cell_type": "markdown",
   "metadata": {},
   "source": [
    "Part2:"
   ]
  },
  {
   "cell_type": "code",
   "execution_count": 8,
   "metadata": {},
   "outputs": [],
   "source": [
    "first_bag = [] \n",
    "for roz in rozlozene:\n",
    "    first = []\n",
    "    for r in roz:\n",
    "        first.append(r[0]) # prvé čísla\n",
    "    first_bag.append(first) # zoznam prvých čísiel príslušných rozkladov"
   ]
  },
  {
   "cell_type": "code",
   "execution_count": 9,
   "metadata": {},
   "outputs": [
    {
     "data": {
      "text/plain": [
       "1012"
      ]
     },
     "execution_count": 9,
     "metadata": {},
     "output_type": "execute_result"
    }
   ],
   "source": [
    "# vyhodnotenie:\n",
    "vypocitane_arr = []\n",
    "for pole in first_bag:\n",
    "    velkost=len(pole)\n",
    "    vypocitane = 0\n",
    "    for i in range(velkost-1-1,-1,-1):\n",
    "        vypocitane = pole[i]-vypocitane\n",
    "        # print(vypocitane)    \n",
    "    vypocitane_arr.append(vypocitane)\n",
    "sum(vypocitane_arr)"
   ]
  },
  {
   "cell_type": "code",
   "execution_count": 10,
   "metadata": {},
   "outputs": [
    {
     "data": {
      "text/plain": [
       "1012"
      ]
     },
     "execution_count": 10,
     "metadata": {},
     "output_type": "execute_result"
    }
   ],
   "source": [
    "# Part2 alternatívne: skúšam alternovať - + \n",
    "riadok = []\n",
    "for fb in first_bag:\n",
    "    summa = fb[0]\n",
    "    for i,elem in enumerate(fb[1:]):\n",
    "        if i%2:\n",
    "            summa += elem\n",
    "        else:\n",
    "            summa -= elem\n",
    "    riadok.append(summa)\n",
    "sum(riadok)"
   ]
  },
  {
   "cell_type": "code",
   "execution_count": null,
   "metadata": {},
   "outputs": [],
   "source": [
    "# done"
   ]
  }
 ],
 "metadata": {
  "kernelspec": {
   "display_name": "Python 3",
   "language": "python",
   "name": "python3"
  },
  "language_info": {
   "codemirror_mode": {
    "name": "ipython",
    "version": 3
   },
   "file_extension": ".py",
   "mimetype": "text/x-python",
   "name": "python",
   "nbconvert_exporter": "python",
   "pygments_lexer": "ipython3",
   "version": "3.12.0"
  }
 },
 "nbformat": 4,
 "nbformat_minor": 2
}
