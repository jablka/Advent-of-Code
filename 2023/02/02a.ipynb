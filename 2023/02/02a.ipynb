{
 "cells": [
  {
   "cell_type": "code",
   "execution_count": null,
   "metadata": {},
   "outputs": [],
   "source": [
    "import re"
   ]
  },
  {
   "cell_type": "code",
   "execution_count": null,
   "metadata": {},
   "outputs": [],
   "source": [
    "\"12 red cubes, 13 green cubes, and 14 blue cubes\"\n",
    "NUMBER_OF_CUBES = { 'r':12, 'g':13, 'b':14 }"
   ]
  },
  {
   "cell_type": "code",
   "execution_count": null,
   "metadata": {},
   "outputs": [],
   "source": [
    "s = \"\"\"Game 1: 3 blue, 4 red; 1 red, 2 green, 6 blue; 2 green\n",
    "Game 2: 1 blue, 2 green; 3 green, 4 blue, 1 red; 1 green, 1 blue\n",
    "Game 3: 8 green, 6 blue, 20 red; 5 blue, 4 red, 13 green; 5 green, 1 red\n",
    "Game 4: 1 green, 3 red, 6 blue; 3 green, 6 red; 3 green, 15 blue, 14 red\n",
    "Game 5: 6 red, 1 blue, 3 green; 2 blue, 1 red, 2 green\n",
    "\"\"\"\n",
    "\n",
    "lines = s.splitlines()"
   ]
  },
  {
   "cell_type": "code",
   "execution_count": null,
   "metadata": {},
   "outputs": [],
   "source": [
    "with open('input.txt') as f:\n",
    "    s = f.read()\n",
    "\n",
    "lines = s.splitlines()"
   ]
  },
  {
   "cell_type": "code",
   "execution_count": null,
   "metadata": {},
   "outputs": [],
   "source": [
    "games = []\n",
    "for line in lines:\n",
    "    # game = line[8:].split('; ')\n",
    "    m_obj=re.match(r'(Game \\d+: )(.+)',line)\n",
    "    game = m_obj.groups()[1]\n",
    "    print(m_obj.groups()[0])\n",
    "    print(game)\n",
    "    games.append(game)"
   ]
  },
  {
   "cell_type": "code",
   "execution_count": null,
   "metadata": {},
   "outputs": [],
   "source": [
    "basket = []\n",
    "for index, line in enumerate(games,1):\n",
    "    print(repr(line))\n",
    "    game:list = line.split('; ')\n",
    "    flag = True\n",
    "    for g in game:\n",
    "        print('hod: '+repr(g))\n",
    "        g_cubes = g.split(', ')   \n",
    "        counter = { 'r':0, 'g':0, 'b':0 }\n",
    "        for cube in g_cubes:\n",
    "            print('kocka: '+repr(cube)+' ',  end='')\n",
    "            match_object = re.match(r'(\\d+) (\\w+)',cube)\n",
    "            print(match_object.groups())\n",
    "            number, color = match_object.groups()\n",
    "            number = int(number)\n",
    "            if color=='red':\n",
    "                counter['r']=number\n",
    "            if color=='green':\n",
    "                counter['g']=number\n",
    "            if color=='blue':\n",
    "                counter['b']=number\n",
    "        print(counter)   \n",
    "        print('testujem')\n",
    "        if counter['r']>NUMBER_OF_CUBES['r']:\n",
    "            flag = False\n",
    "            break\n",
    "        if counter['g']>NUMBER_OF_CUBES['g']:\n",
    "            flag = False\n",
    "            break\n",
    "        if counter['b']>NUMBER_OF_CUBES['b']:\n",
    "            flag = False\n",
    "            break\n",
    "    print(f'test Game {index} is {flag}')\n",
    "    print()\n",
    "    if flag==True:\n",
    "        basket.append(index) # game index"
   ]
  },
  {
   "cell_type": "code",
   "execution_count": null,
   "metadata": {},
   "outputs": [
    {
     "data": {
      "text/plain": [
       "2369"
      ]
     },
     "metadata": {},
     "output_type": "display_data"
    }
   ],
   "source": [
    "sum(basket) # 2369"
   ]
  },
  {
   "cell_type": "code",
   "execution_count": null,
   "metadata": {},
   "outputs": [],
   "source": [
    "# done"
   ]
  }
 ],
 "metadata": {
  "language_info": {
   "name": "python"
  }
 },
 "nbformat": 4,
 "nbformat_minor": 2
}
