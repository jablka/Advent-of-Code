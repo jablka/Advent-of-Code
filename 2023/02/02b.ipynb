{
 "cells": [
  {
   "cell_type": "code",
   "execution_count": 1,
   "metadata": {},
   "outputs": [],
   "source": [
    "import re\n",
    "import math"
   ]
  },
  {
   "cell_type": "code",
   "execution_count": 2,
   "metadata": {},
   "outputs": [],
   "source": [
    "\"12 red cubes, 13 green cubes, and 14 blue cubes\"\n",
    "NUMBER_OF_CUBES = { 'r':12, 'g':13, 'b':14 }"
   ]
  },
  {
   "cell_type": "code",
   "execution_count": 3,
   "metadata": {},
   "outputs": [
    {
     "data": {
      "text/plain": [
       "['Game 1: 3 blue, 4 red; 1 red, 2 green, 6 blue; 2 green',\n",
       " 'Game 2: 1 blue, 2 green; 3 green, 4 blue, 1 red; 1 green, 1 blue',\n",
       " 'Game 3: 8 green, 6 blue, 20 red; 5 blue, 4 red, 13 green; 5 green, 1 red',\n",
       " 'Game 4: 1 green, 3 red, 6 blue; 3 green, 6 red; 3 green, 15 blue, 14 red',\n",
       " 'Game 5: 6 red, 1 blue, 3 green; 2 blue, 1 red, 2 green']"
      ]
     },
     "execution_count": 3,
     "metadata": {},
     "output_type": "execute_result"
    }
   ],
   "source": [
    "s = \"\"\"Game 1: 3 blue, 4 red; 1 red, 2 green, 6 blue; 2 green\n",
    "Game 2: 1 blue, 2 green; 3 green, 4 blue, 1 red; 1 green, 1 blue\n",
    "Game 3: 8 green, 6 blue, 20 red; 5 blue, 4 red, 13 green; 5 green, 1 red\n",
    "Game 4: 1 green, 3 red, 6 blue; 3 green, 6 red; 3 green, 15 blue, 14 red\n",
    "Game 5: 6 red, 1 blue, 3 green; 2 blue, 1 red, 2 green\n",
    "\"\"\"\n",
    "\n",
    "lines = s.splitlines()\n",
    "lines"
   ]
  },
  {
   "cell_type": "code",
   "execution_count": 4,
   "metadata": {},
   "outputs": [],
   "source": [
    "with open('input.txt') as f:\n",
    "    s = f.read()\n",
    "\n",
    "lines = s.splitlines()"
   ]
  },
  {
   "cell_type": "code",
   "execution_count": null,
   "metadata": {},
   "outputs": [],
   "source": [
    "games = []\n",
    "for line in lines:\n",
    "    # game = line[8:].split('; ')\n",
    "    m_obj=re.match(r'(Game \\d+: )(.+)',line)\n",
    "    game = m_obj.groups()[1]\n",
    "    print(m_obj.groups()[0])\n",
    "    print(game)\n",
    "    games.append(game)"
   ]
  },
  {
   "cell_type": "code",
   "execution_count": null,
   "metadata": {},
   "outputs": [],
   "source": [
    "basket = []\n",
    "for index, line in enumerate(games,1):\n",
    "    print(repr(line))\n",
    "    game:list = line.split('; ')\n",
    "    basket2 = []\n",
    "    counter = { 'r':0, 'g':0, 'b':0 }\n",
    "    for g in game:\n",
    "        print('hod: '+repr(g))\n",
    "        g_cubes = g.split(', ')   \n",
    "        for cube in g_cubes:\n",
    "            print('kocka: '+repr(cube)+' ',  end='')\n",
    "            match_object = re.match(r'(\\d+) (\\w+)',cube)\n",
    "            print(match_object.groups())\n",
    "            number, color = match_object.groups()\n",
    "            number = int(number)\n",
    "            if color=='red':\n",
    "                if number>counter['r']:\n",
    "                    counter['r']=number\n",
    "            if color=='green':\n",
    "                if number>counter['g']:\n",
    "                    counter['g']=number\n",
    "            if color=='blue':\n",
    "                if number>counter['b']:\n",
    "                    counter['b']=number\n",
    "        print(f'counter:',counter)   \n",
    "        # basket2.append(counter) \n",
    "    m_list = [ counter[k] for k in counter ]\n",
    "    basket.append(math.prod(m_list))\n",
    "    # print(basket2)\n",
    "    print()"
   ]
  },
  {
   "cell_type": "code",
   "execution_count": 7,
   "metadata": {},
   "outputs": [
    {
     "data": {
      "text/plain": [
       "66363"
      ]
     },
     "execution_count": 7,
     "metadata": {},
     "output_type": "execute_result"
    }
   ],
   "source": [
    "sum(basket) # 66363"
   ]
  },
  {
   "cell_type": "code",
   "execution_count": null,
   "metadata": {},
   "outputs": [],
   "source": [
    "# done"
   ]
  }
 ],
 "metadata": {
  "kernelspec": {
   "display_name": "Python 3",
   "language": "python",
   "name": "python3"
  },
  "language_info": {
   "codemirror_mode": {
    "name": "ipython",
    "version": 3
   },
   "file_extension": ".py",
   "mimetype": "text/x-python",
   "name": "python",
   "nbconvert_exporter": "python",
   "pygments_lexer": "ipython3",
   "version": "3.12.0"
  }
 },
 "nbformat": 4,
 "nbformat_minor": 2
}
