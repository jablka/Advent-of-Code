{
 "cells": [
  {
   "cell_type": "code",
   "execution_count": 1,
   "metadata": {},
   "outputs": [],
   "source": [
    "s = '''....#.....\n",
    ".........#\n",
    "..........\n",
    "..#.......\n",
    ".......#..\n",
    "..........\n",
    ".#..^.....\n",
    "........#.\n",
    "#.........\n",
    "......#...'''"
   ]
  },
  {
   "cell_type": "code",
   "execution_count": 2,
   "metadata": {},
   "outputs": [],
   "source": [
    "with open('input.txt') as f:\n",
    "    s = f.read()"
   ]
  },
  {
   "cell_type": "code",
   "execution_count": null,
   "metadata": {},
   "outputs": [],
   "source": [
    "lines = s.splitlines()\n",
    "lines"
   ]
  },
  {
   "cell_type": "code",
   "execution_count": null,
   "metadata": {},
   "outputs": [],
   "source": [
    "grid = []\n",
    "for r,line in enumerate(lines):\n",
    "    bag = []\n",
    "    for c,li in enumerate(line):\n",
    "        if li=='^':\n",
    "            start = r,c\n",
    "        bag.append(lines[r][c])\n",
    "    grid.append(bag)\n",
    "print(start)\n",
    "print(grid)"
   ]
  },
  {
   "cell_type": "code",
   "execution_count": 5,
   "metadata": {},
   "outputs": [
    {
     "name": "stdout",
     "output_type": "stream",
     "text": [
      "5951\n",
      "5950\n",
      "positions: 5951\n"
     ]
    }
   ],
   "source": [
    "# grid = lines\n",
    "r = start[0]\n",
    "c = start[1]\n",
    "smer  = (-1,0)\n",
    "d,e = smer\n",
    "counter = 1\n",
    "len_rows = len(grid)\n",
    "len_cols = len(grid[0])\n",
    "positions = [(r,c)]\n",
    "count = 0\n",
    "while r+d<len_rows and c+e<len_cols and r+d>-1 and c+e>-1:\n",
    "    grid[r][c]='X'\n",
    "    count += 1\n",
    "    if grid[r+d][c+e]=='#':\n",
    "        # zmena smeru\n",
    "        if d==-1 and e==0: # hore\n",
    "            d=0; e=1       # vpravo\n",
    "        elif d==0 and e==1: # vpravo\n",
    "            d=1; e=0        # dole\n",
    "        elif d==1 and e==0: # dole\n",
    "            d=0; e=-1       # vlavo\n",
    "        elif d==0 and e==-1: # vlavo\n",
    "            d=-1; e=0       # hore\n",
    "    # kráčaj\n",
    "    r+=d\n",
    "    c+=e\n",
    "    counter +=1\n",
    "    positions.append((r,c))\n",
    "print(counter)\n",
    "print(count)\n",
    "print('positions:',len(positions)) # jasné, viackrát vstúpi na tú istú, keď križuje!"
   ]
  },
  {
   "cell_type": "code",
   "execution_count": 6,
   "metadata": {},
   "outputs": [],
   "source": [
    "# positions"
   ]
  },
  {
   "cell_type": "code",
   "execution_count": 7,
   "metadata": {},
   "outputs": [],
   "source": [
    "# grid"
   ]
  },
  {
   "cell_type": "code",
   "execution_count": null,
   "metadata": {},
   "outputs": [],
   "source": [
    "lines2 = []\n",
    "for gr in grid:\n",
    "    my_str = ''.join(gr)\n",
    "    lines2.append(my_str)\n",
    "lines2"
   ]
  },
  {
   "cell_type": "code",
   "execution_count": null,
   "metadata": {},
   "outputs": [],
   "source": [
    "x_counter = 0\n",
    "line:str\n",
    "for line in lines2:\n",
    "    x_counter+=line.count('X')\n",
    "x_counter+1"
   ]
  },
  {
   "cell_type": "code",
   "execution_count": null,
   "metadata": {},
   "outputs": [],
   "source": [
    "# done"
   ]
  }
 ],
 "metadata": {
  "kernelspec": {
   "display_name": "Python 3",
   "language": "python",
   "name": "python3"
  },
  "language_info": {
   "codemirror_mode": {
    "name": "ipython",
    "version": 3
   },
   "file_extension": ".py",
   "mimetype": "text/x-python",
   "name": "python",
   "nbconvert_exporter": "python",
   "pygments_lexer": "ipython3",
   "version": "3.12.0"
  }
 },
 "nbformat": 4,
 "nbformat_minor": 2
}
