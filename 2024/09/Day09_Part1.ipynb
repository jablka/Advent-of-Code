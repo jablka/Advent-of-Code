{
 "cells": [
  {
   "cell_type": "code",
   "execution_count": 7,
   "metadata": {},
   "outputs": [],
   "source": [
    "s = '12345'\n",
    "s = '2333133121414131402'\n",
    "s = '233313312141413140212'\n",
    "\n",
    "with open('input.txt') as f:\n",
    "    s = f.read()\n",
    "s = s.strip()\n",
    "\n",
    "new = []\n",
    "count = 0\n",
    "for i in range(len(s)):  \n",
    "    if i%2==0:\n",
    "        tento = (str(count)+',')*int(s[i])\n",
    "        tento = tento.strip(',').split(',')\n",
    "        new += tento\n",
    "    else:\n",
    "        tento = '-1,'*int(s[i])\n",
    "        if tento!='':\n",
    "            tento = tento.strip(',').split(',')\n",
    "            tento = list(map(int,tento))\n",
    "            new += tento\n",
    "            count+=1\n",
    "        else:\n",
    "            count+=1\n",
    "# fajn\n",
    "\n",
    "bodky = new.count(-1)\n",
    "bodky\n",
    "\n",
    "chvost = new[::-1]\n",
    "chvost = [x for x in chvost if x!=-1]\n",
    "# len(chvost)"
   ]
  },
  {
   "cell_type": "code",
   "execution_count": 8,
   "metadata": {},
   "outputs": [],
   "source": [
    "disk = new\n",
    "novy = []\n",
    "for i in range(len(disk)):\n",
    "    if disk[i]==-1:\n",
    "        novy.append(chvost[0])\n",
    "        chvost=chvost[1:]\n",
    "    else:\n",
    "        novy.append(disk[i])\n",
    "novy = novy[:-bodky]"
   ]
  },
  {
   "cell_type": "code",
   "execution_count": null,
   "metadata": {},
   "outputs": [],
   "source": [
    "res = 0\n",
    "for n,i in enumerate(list(novy)):\n",
    "    if i!='.':\n",
    "        res +=n*int(i)\n",
    "res\n",
    "print(res)"
   ]
  },
  {
   "cell_type": "code",
   "execution_count": null,
   "metadata": {},
   "outputs": [],
   "source": [
    "# done"
   ]
  }
 ],
 "metadata": {
  "kernelspec": {
   "display_name": "Python 3",
   "language": "python",
   "name": "python3"
  },
  "language_info": {
   "codemirror_mode": {
    "name": "ipython",
    "version": 3
   },
   "file_extension": ".py",
   "mimetype": "text/x-python",
   "name": "python",
   "nbconvert_exporter": "python",
   "pygments_lexer": "ipython3",
   "version": "3.12.0"
  }
 },
 "nbformat": 4,
 "nbformat_minor": 2
}
