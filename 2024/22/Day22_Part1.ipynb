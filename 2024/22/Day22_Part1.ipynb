{
 "cells": [
  {
   "cell_type": "code",
   "execution_count": 1,
   "metadata": {},
   "outputs": [],
   "source": [
    "def mix(n,res):\n",
    "    return n^res\n",
    "\n",
    "def prune(x):\n",
    "    return x%16777216"
   ]
  },
  {
   "cell_type": "code",
   "execution_count": 2,
   "metadata": {},
   "outputs": [],
   "source": [
    "def step1(initial_number):\n",
    "    res = initial_number*64\n",
    "    res = mix(initial_number,res)\n",
    "    res = prune(res)\n",
    "    return res\n",
    "\n",
    "def step2(n):\n",
    "    # res = round(n/32)\n",
    "    res = n//32\n",
    "    res = mix(n,res)\n",
    "    res = prune(res)\n",
    "    return res\n",
    "\n",
    "def step3(n):\n",
    "    res = n*2048\n",
    "    res = mix(n,res)\n",
    "    res = prune(res)\n",
    "    return res"
   ]
  },
  {
   "cell_type": "code",
   "execution_count": 3,
   "metadata": {},
   "outputs": [
    {
     "data": {
      "text/plain": [
       "15887950"
      ]
     },
     "execution_count": 3,
     "metadata": {},
     "output_type": "execute_result"
    }
   ],
   "source": [
    "x = step1(123) # example\n",
    "x = step2(x)\n",
    "x = step3(x)\n",
    "x"
   ]
  },
  {
   "cell_type": "code",
   "execution_count": 4,
   "metadata": {},
   "outputs": [
    {
     "name": "stdout",
     "output_type": "stream",
     "text": [
      "15887950\n",
      "16495136\n",
      "527345\n",
      "704524\n",
      "1553684\n",
      "12683156\n",
      "11100544\n",
      "12249484\n",
      "7753432\n",
      "5908254\n"
     ]
    }
   ],
   "source": [
    "x = 123\n",
    "for i in range(10): # example\n",
    "    x = step1(x)\n",
    "    x = step2(x)\n",
    "    x = step3(x)    \n",
    "    print(x)"
   ]
  },
  {
   "cell_type": "code",
   "execution_count": null,
   "metadata": {},
   "outputs": [],
   "source": [
    "# input data:\n",
    "with open('input.txt') as f: \n",
    "    s = f.read()\n",
    "lines = s.strip().splitlines()\n",
    "\n",
    "bag = []\n",
    "for number in lines:\n",
    "    x = int(number)\n",
    "    for i in range(2000):\n",
    "        x = step1(x)\n",
    "        x = step2(x)\n",
    "        x = step3(x)    \n",
    "    # print(x)\n",
    "    bag.append(x)\n",
    "\n",
    "print(sum(bag))"
   ]
  },
  {
   "cell_type": "code",
   "execution_count": null,
   "metadata": {},
   "outputs": [],
   "source": [
    "# done"
   ]
  }
 ],
 "metadata": {
  "kernelspec": {
   "display_name": "Python 3",
   "language": "python",
   "name": "python3"
  },
  "language_info": {
   "codemirror_mode": {
    "name": "ipython",
    "version": 3
   },
   "file_extension": ".py",
   "mimetype": "text/x-python",
   "name": "python",
   "nbconvert_exporter": "python",
   "pygments_lexer": "ipython3",
   "version": "3.12.0"
  }
 },
 "nbformat": 4,
 "nbformat_minor": 2
}
