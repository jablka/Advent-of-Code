{
 "cells": [
  {
   "cell_type": "code",
   "execution_count": 1,
   "metadata": {},
   "outputs": [],
   "source": [
    "reg_A : int\n",
    "reg_B : int\n",
    "reg_C : int\n",
    "printer = []"
   ]
  },
  {
   "cell_type": "code",
   "execution_count": 2,
   "metadata": {},
   "outputs": [],
   "source": [
    "def identify_combo(operand):\n",
    "    if operand in (0,1,2,3):\n",
    "        return operand\n",
    "    elif operand == 4:\n",
    "        global reg_A\n",
    "        return reg_A\n",
    "    elif operand == 5:\n",
    "        global reg_B\n",
    "        return reg_B\n",
    "    elif operand == 6:\n",
    "        global reg_C\n",
    "        return reg_C\n",
    "    elif operand == 7: # nemal by byť...\n",
    "        return operand"
   ]
  },
  {
   "cell_type": "code",
   "execution_count": 3,
   "metadata": {},
   "outputs": [],
   "source": [
    "def opcode0(operand):\n",
    "    operand = identify_combo(operand)\n",
    "    global reg_A\n",
    "    reg_A = reg_A//(2**operand)\n",
    "\n",
    "def opcode1(operand):\n",
    "    operand = identify_combo(operand)\n",
    "    global reg_B\n",
    "    reg_B = reg_B ^ operand\n",
    "\n",
    "def opcode2(operand):\n",
    "    operand = identify_combo(operand)    \n",
    "    global reg_B\n",
    "    reg_B = operand % 8\n",
    "\n",
    "def opcode3(operand):\n",
    "    global reg_A\n",
    "    if reg_A == 0:\n",
    "        ...\n",
    "    else:\n",
    "        global flag \n",
    "        flag = True # jump\n",
    "\n",
    "def opcode4(operand):\n",
    "    operand = identify_combo(operand)\n",
    "    global reg_B\n",
    "    global reg_C\n",
    "    reg_B = reg_B ^ reg_C\n",
    "\n",
    "def opcode5(operand):\n",
    "    operand = identify_combo(operand)    \n",
    "    res = operand % 8\n",
    "    # print(res)\n",
    "    global printer\n",
    "    printer.append(str(res))\n",
    "\n",
    "def opcode6(operand):\n",
    "    operand = identify_combo(operand)\n",
    "    global reg_B\n",
    "    global reg_A\n",
    "    reg_B = reg_A//(2**operand)\n",
    "\n",
    "def opcode7(operand):\n",
    "    operand = identify_combo(operand)    \n",
    "    global reg_C\n",
    "    global reg_A\n",
    "    reg_C = reg_A//(2**operand) "
   ]
  },
  {
   "cell_type": "code",
   "execution_count": 4,
   "metadata": {},
   "outputs": [],
   "source": [
    "def interpreter(instr, operand):\n",
    "    match instr:\n",
    "        case 0:\n",
    "            opcode0(operand)\n",
    "        case 1:\n",
    "            opcode1(operand)\n",
    "        case 2:\n",
    "            opcode2(operand)\n",
    "        case 3:\n",
    "            opcode3(operand)\n",
    "        case 4:\n",
    "            opcode4(operand)\n",
    "        case 5:\n",
    "            opcode5(operand)                           \n",
    "        case 6:\n",
    "            opcode6(operand)\n",
    "        case 7:\n",
    "            opcode7(operand)"
   ]
  },
  {
   "cell_type": "code",
   "execution_count": 5,
   "metadata": {},
   "outputs": [],
   "source": [
    "# using example data here, but works also on input data:\n",
    "program = [0,1,5,4,3,0] # example program here \n",
    "reg_A = 729 # initial setting\n",
    "reg_B = 0\n",
    "reg_C = 0\n",
    "\n",
    "p = 0 # instruction pointer\n",
    "tupled_instruction = []\n",
    "flag = False\n",
    "while True:\n",
    "    if p>len(program)-1: break\n",
    "    if len(tupled_instruction)==0:\n",
    "        tupled_instruction.append(program[p])\n",
    "        # print(tupled_instruction)\n",
    "    elif len(tupled_instruction)==1:\n",
    "        tupled_instruction.append(program[p])\n",
    "        # print(tupled_instruction)\n",
    "        interpreter(tupled_instruction[0],tupled_instruction[1])\n",
    "        if flag:\n",
    "            p = tupled_instruction[1]\n",
    "            tupled_instruction = []\n",
    "            flag = False\n",
    "            continue\n",
    "        else:\n",
    "            tupled_instruction = []\n",
    "    p+=1"
   ]
  },
  {
   "cell_type": "code",
   "execution_count": 6,
   "metadata": {},
   "outputs": [
    {
     "name": "stdout",
     "output_type": "stream",
     "text": [
      "4,6,3,5,6,3,5,2,1,0\n"
     ]
    }
   ],
   "source": [
    "print(','.join(printer)) # example result 4,6,3,5,6,3,5,2,1,0"
   ]
  },
  {
   "cell_type": "code",
   "execution_count": 7,
   "metadata": {},
   "outputs": [
    {
     "data": {
      "text/plain": [
       "0"
      ]
     },
     "execution_count": 7,
     "metadata": {},
     "output_type": "execute_result"
    }
   ],
   "source": [
    "reg_A"
   ]
  },
  {
   "cell_type": "code",
   "execution_count": null,
   "metadata": {},
   "outputs": [],
   "source": [
    "# done"
   ]
  }
 ],
 "metadata": {
  "kernelspec": {
   "display_name": "Python 3",
   "language": "python",
   "name": "python3"
  },
  "language_info": {
   "codemirror_mode": {
    "name": "ipython",
    "version": 3
   },
   "file_extension": ".py",
   "mimetype": "text/x-python",
   "name": "python",
   "nbconvert_exporter": "python",
   "pygments_lexer": "ipython3",
   "version": "3.12.0"
  }
 },
 "nbformat": 4,
 "nbformat_minor": 2
}
