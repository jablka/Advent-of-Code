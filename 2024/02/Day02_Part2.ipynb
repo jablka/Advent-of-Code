{
 "cells": [
  {
   "cell_type": "code",
   "execution_count": 1,
   "metadata": {},
   "outputs": [],
   "source": [
    "s = '''7 6 4 2 1\n",
    "1 2 7 8 9\n",
    "9 7 6 2 1\n",
    "1 3 2 4 5\n",
    "8 6 4 4 1\n",
    "1 3 6 7 9'''"
   ]
  },
  {
   "cell_type": "code",
   "execution_count": 2,
   "metadata": {},
   "outputs": [],
   "source": [
    "with open('input.txt') as f:\n",
    "    s = f.read()"
   ]
  },
  {
   "cell_type": "code",
   "execution_count": 3,
   "metadata": {},
   "outputs": [],
   "source": [
    "lines = s.splitlines()"
   ]
  },
  {
   "cell_type": "code",
   "execution_count": 4,
   "metadata": {},
   "outputs": [],
   "source": [
    "arr = []\n",
    "for line in lines:\n",
    "    my_arr = line.split()\n",
    "    my_arr = list(map(int,my_arr))\n",
    "    arr.append(my_arr)"
   ]
  },
  {
   "cell_type": "code",
   "execution_count": 5,
   "metadata": {},
   "outputs": [],
   "source": [
    "def procedura(my_arr): # vracia 0 alebo 1\n",
    "    res = 0\n",
    "    if my_arr==sorted(my_arr) or my_arr==sorted(my_arr,reverse=True): # či sú zoradené\n",
    "        styri = []\n",
    "        for j in range(len(my_arr)-1):\n",
    "            delta = abs(my_arr[j]-my_arr[j+1])\n",
    "            if delta>=1 and delta<=3: # či je splnená delta\n",
    "                styri.append(True)\n",
    "            else:\n",
    "                styri.append(False)\n",
    "        if all(styri):\n",
    "            res+=1\n",
    "    return res"
   ]
  },
  {
   "cell_type": "code",
   "execution_count": null,
   "metadata": {},
   "outputs": [],
   "source": [
    "vysledok = 0\n",
    "for i in range(len(arr)):\n",
    "    first_test = 0\n",
    "    first_test = procedura(arr[i])\n",
    "    if first_test == 1:\n",
    "        vysledok += 1\n",
    "    else:\n",
    "        second_test = 0\n",
    "        # print(arr[i], 'full')\n",
    "        for z in range(len(arr[i])):\n",
    "            copy = [arr[i][x] for x in range(len(arr[i])) if x!=z ]\n",
    "            second_test += procedura(copy)\n",
    "            # print(copy, z, second_test)\n",
    "        if second_test > 0:\n",
    "            vysledok+=1     \n",
    "vysledok"
   ]
  },
  {
   "cell_type": "code",
   "execution_count": null,
   "metadata": {},
   "outputs": [],
   "source": [
    "# done"
   ]
  }
 ],
 "metadata": {
  "kernelspec": {
   "display_name": "Python 3",
   "language": "python",
   "name": "python3"
  },
  "language_info": {
   "codemirror_mode": {
    "name": "ipython",
    "version": 3
   },
   "file_extension": ".py",
   "mimetype": "text/x-python",
   "name": "python",
   "nbconvert_exporter": "python",
   "pygments_lexer": "ipython3",
   "version": "3.12.0"
  }
 },
 "nbformat": 4,
 "nbformat_minor": 2
}
