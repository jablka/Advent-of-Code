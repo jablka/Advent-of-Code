{
 "cells": [
  {
   "cell_type": "code",
   "execution_count": 9,
   "metadata": {},
   "outputs": [],
   "source": [
    "# example data:\n",
    "s = '''\n",
    "89010123\n",
    "78121874\n",
    "87430965\n",
    "96549874\n",
    "45678903\n",
    "32019012\n",
    "01329801\n",
    "10456732\n",
    "'''\n",
    "\n",
    "# input data:\n",
    "with open('input.txt') as f:\n",
    "    s = f.read()"
   ]
  },
  {
   "cell_type": "code",
   "execution_count": 10,
   "metadata": {},
   "outputs": [],
   "source": [
    "lines = s.strip().splitlines()"
   ]
  },
  {
   "cell_type": "code",
   "execution_count": null,
   "metadata": {},
   "outputs": [],
   "source": [
    "starting_positions = []\n",
    "for r,line in enumerate(lines):\n",
    "    for c,letter in enumerate(line):\n",
    "        if letter == '0':\n",
    "            starting_positions.append((r,c))\n",
    "starting_positions            "
   ]
  },
  {
   "cell_type": "code",
   "execution_count": null,
   "metadata": {},
   "outputs": [],
   "source": [
    "grid = []\n",
    "for line in lines:\n",
    "    tento = []\n",
    "    for x in line:\n",
    "        if x.isdigit():\n",
    "            tento.append(int(x))\n",
    "        else:\n",
    "            tento.append(0) # in case where examples are filled with '.' character\n",
    "    grid.append(tento)\n",
    "grid"
   ]
  },
  {
   "cell_type": "code",
   "execution_count": 13,
   "metadata": {},
   "outputs": [],
   "source": [
    "range_rows = list(range(len(grid)))\n",
    "range_cols = list(range(len(grid[0])))\n",
    "\n",
    "RIGHT = [0,+1]\n",
    "LEFT = [0,-1]\n",
    "UP = [-1,0]\n",
    "DOWN = [+1,0]\n",
    "okolo = [RIGHT,LEFT,UP,DOWN]\n",
    "\n",
    "r = 0 # row\n",
    "c = 1 # column\n",
    "\n",
    "cache = []"
   ]
  },
  {
   "cell_type": "code",
   "execution_count": 14,
   "metadata": {},
   "outputs": [],
   "source": [
    "def flood(position_r,position_c):\n",
    "    # print('kráčam, vstupujem na cislo', grid[position_r][position_c], 'pozicia:', position_r,position_c) \n",
    "    if grid[position_r][position_c]==9:\n",
    "        # print('máme devinu')\n",
    "        # if (position_r, position_c) not in cache: # THIS IS ESSENTIALLY THE ONLY CHANGE IN PART_B :-)\n",
    "        cache.append((position_r, position_c))\n",
    "        # print(cache)\n",
    "        return\n",
    "\n",
    "    bag = []\n",
    "    for move in okolo: # [RIGHT,LEFT,UP,DOWN]\n",
    "        potential_r = position_r+move[r]\n",
    "        potential_c = position_c+move[c]\n",
    "        # print('zvažujem',potential_r,potential_c)\n",
    "        if (potential_r in range_rows) and (potential_c in range_cols):\n",
    "            rozdiel = grid[potential_r][potential_c]-grid[position_r][position_c]\n",
    "            bag.append(rozdiel)\n",
    "        else:\n",
    "            bag.append(None)\n",
    "    bag\n",
    "\n",
    "    rad,col = position_r, position_c\n",
    "    next_moves = []\n",
    "    for n,move in enumerate(bag):\n",
    "        if move == 1:\n",
    "            next_moves.append([okolo[n][r],okolo[n][c]])\n",
    "    next_moves\n",
    "\n",
    "    for next_move in next_moves:\n",
    "        flood(position_r=position_r+next_move[r],position_c=position_c+next_move[c])"
   ]
  },
  {
   "cell_type": "code",
   "execution_count": null,
   "metadata": {},
   "outputs": [],
   "source": [
    "score = []\n",
    "for case in starting_positions:\n",
    "    flood(position_r=case[0],position_c=case[1])\n",
    "    score.append(len(cache))\n",
    "    cache = []\n",
    "score"
   ]
  },
  {
   "cell_type": "code",
   "execution_count": null,
   "metadata": {},
   "outputs": [],
   "source": [
    "sum(score)"
   ]
  },
  {
   "cell_type": "code",
   "execution_count": null,
   "metadata": {},
   "outputs": [],
   "source": [
    "# done"
   ]
  }
 ],
 "metadata": {
  "kernelspec": {
   "display_name": "Python 3",
   "language": "python",
   "name": "python3"
  },
  "language_info": {
   "codemirror_mode": {
    "name": "ipython",
    "version": 3
   },
   "file_extension": ".py",
   "mimetype": "text/x-python",
   "name": "python",
   "nbconvert_exporter": "python",
   "pygments_lexer": "ipython3",
   "version": "3.12.0"
  }
 },
 "nbformat": 4,
 "nbformat_minor": 2
}
