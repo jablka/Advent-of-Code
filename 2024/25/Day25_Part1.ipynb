{
 "cells": [
  {
   "cell_type": "code",
   "execution_count": 8,
   "metadata": {},
   "outputs": [],
   "source": [
    "import pandas as pd"
   ]
  },
  {
   "cell_type": "code",
   "execution_count": 9,
   "metadata": {},
   "outputs": [],
   "source": [
    "## for reading input data, use this:\n",
    "# with open('input.txt') as f:\n",
    "#     s = f.read()\n",
    "\n",
    "# I will use the example data, for demonstration purposes:\n",
    "s='''\n",
    "#####\n",
    ".####\n",
    ".####\n",
    ".####\n",
    ".#.#.\n",
    ".#...\n",
    ".....\n",
    "\n",
    "#####\n",
    "##.##\n",
    ".#.##\n",
    "...##\n",
    "...#.\n",
    "...#.\n",
    ".....\n",
    "\n",
    ".....\n",
    "#....\n",
    "#....\n",
    "#...#\n",
    "#.#.#\n",
    "#.###\n",
    "#####\n",
    "\n",
    ".....\n",
    ".....\n",
    "#.#..\n",
    "###..\n",
    "###.#\n",
    "###.#\n",
    "#####\n",
    "\n",
    ".....\n",
    ".....\n",
    ".....\n",
    "#....\n",
    "#.#..\n",
    "#.#.#\n",
    "#####\n",
    "'''"
   ]
  },
  {
   "cell_type": "code",
   "execution_count": 10,
   "metadata": {},
   "outputs": [
    {
     "data": {
      "text/plain": [
       "['#####\\n.####\\n.####\\n.####\\n.#.#.\\n.#...\\n.....',\n",
       " '#####\\n##.##\\n.#.##\\n...##\\n...#.\\n...#.\\n.....',\n",
       " '.....\\n#....\\n#....\\n#...#\\n#.#.#\\n#.###\\n#####',\n",
       " '.....\\n.....\\n#.#..\\n###..\\n###.#\\n###.#\\n#####',\n",
       " '.....\\n.....\\n.....\\n#....\\n#.#..\\n#.#.#\\n#####']"
      ]
     },
     "execution_count": 10,
     "metadata": {},
     "output_type": "execute_result"
    }
   ],
   "source": [
    "items = s.strip().split('\\n\\n')\n",
    "items"
   ]
  },
  {
   "cell_type": "code",
   "execution_count": 11,
   "metadata": {},
   "outputs": [
    {
     "data": {
      "text/plain": [
       "[['#####', '.####', '.####', '.####', '.#.#.', '.#...', '.....'],\n",
       " ['#####', '##.##', '.#.##', '...##', '...#.', '...#.', '.....'],\n",
       " ['.....', '#....', '#....', '#...#', '#.#.#', '#.###', '#####'],\n",
       " ['.....', '.....', '#.#..', '###..', '###.#', '###.#', '#####'],\n",
       " ['.....', '.....', '.....', '#....', '#.#..', '#.#.#', '#####']]"
      ]
     },
     "execution_count": 11,
     "metadata": {},
     "output_type": "execute_result"
    }
   ],
   "source": [
    "bag = []\n",
    "for it in items:\n",
    "    bag.append(it.splitlines())\n",
    "bag"
   ]
  },
  {
   "cell_type": "code",
   "execution_count": 12,
   "metadata": {},
   "outputs": [
    {
     "data": {
      "text/plain": [
       "['#', '#', '#', '#', '#']"
      ]
     },
     "execution_count": 12,
     "metadata": {},
     "output_type": "execute_result"
    }
   ],
   "source": [
    "list(bag[0][0])"
   ]
  },
  {
   "cell_type": "code",
   "execution_count": 13,
   "metadata": {},
   "outputs": [
    {
     "name": "stdout",
     "output_type": "stream",
     "text": [
      "[[0, 5, 3, 4, 3], [1, 2, 0, 5, 3]]\n",
      "[[5, 0, 2, 1, 3], [4, 3, 4, 0, 2], [3, 0, 2, 0, 1]]\n"
     ]
    }
   ],
   "source": [
    "locks = []; keys = []\n",
    "for ba in bag:\n",
    "    new_bag = []\n",
    "    for b in ba:\n",
    "        new_bag.append(list(b))\n",
    "    df = pd.DataFrame(new_bag)\n",
    "    if df.loc[0,0]=='#':\n",
    "        res = (df=='#').sum()-1\n",
    "        locks.append(res.to_list())\n",
    "    else:\n",
    "        res = (df=='#').sum()-1\n",
    "        keys.append(res.to_list())\n",
    "print(locks)\n",
    "print(keys)"
   ]
  },
  {
   "cell_type": "code",
   "execution_count": 14,
   "metadata": {},
   "outputs": [
    {
     "name": "stdout",
     "output_type": "stream",
     "text": [
      "[0, 5, 3, 4, 3] [3, 0, 2, 0, 1]\n",
      "[1, 2, 0, 5, 3] [4, 3, 4, 0, 2]\n",
      "[1, 2, 0, 5, 3] [3, 0, 2, 0, 1]\n"
     ]
    }
   ],
   "source": [
    "count = 0\n",
    "for lock in locks:\n",
    "    for key in keys:\n",
    "        for tup in zip(lock,key):\n",
    "            if tup[0]+tup[1]>5:\n",
    "                break\n",
    "        else:\n",
    "            count+=1\n",
    "            print(lock,key)"
   ]
  },
  {
   "cell_type": "code",
   "execution_count": 15,
   "metadata": {},
   "outputs": [
    {
     "data": {
      "text/plain": [
       "3"
      ]
     },
     "execution_count": 15,
     "metadata": {},
     "output_type": "execute_result"
    }
   ],
   "source": [
    "count"
   ]
  },
  {
   "cell_type": "code",
   "execution_count": null,
   "metadata": {},
   "outputs": [],
   "source": [
    "# done"
   ]
  }
 ],
 "metadata": {
  "kernelspec": {
   "display_name": "Python 3",
   "language": "python",
   "name": "python3"
  },
  "language_info": {
   "codemirror_mode": {
    "name": "ipython",
    "version": 3
   },
   "file_extension": ".py",
   "mimetype": "text/x-python",
   "name": "python",
   "nbconvert_exporter": "python",
   "pygments_lexer": "ipython3",
   "version": "3.12.0"
  }
 },
 "nbformat": 4,
 "nbformat_minor": 2
}
