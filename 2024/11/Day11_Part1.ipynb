{
 "cells": [
  {
   "cell_type": "code",
   "execution_count": 16,
   "metadata": {},
   "outputs": [],
   "source": [
    "# using example data here, but works also on input data."
   ]
  },
  {
   "cell_type": "code",
   "execution_count": 17,
   "metadata": {},
   "outputs": [],
   "source": [
    "def blink(stones):\n",
    "    i = 0\n",
    "    while i<len(stones):\n",
    "        stone = stones[i]    \n",
    "        if stones[i]==0:\n",
    "            stones[i]+=1\n",
    "        elif len(str(stones[i]))%2==0: # even\n",
    "            # apply split\n",
    "            stred = len(str(stone))//2\n",
    "            left = str(stone)[:stred]\n",
    "            right = str(stone)[stred:]\n",
    "            # print(left,right)\n",
    "            stones[i]=int(left)\n",
    "            stones.insert(i+1,int(right))\n",
    "            i+=1\n",
    "        else:\n",
    "            stones[i]*=2024\n",
    "        i+=1\n",
    "    return stones"
   ]
  },
  {
   "cell_type": "code",
   "execution_count": 18,
   "metadata": {},
   "outputs": [
    {
     "data": {
      "text/plain": [
       "22"
      ]
     },
     "execution_count": 18,
     "metadata": {},
     "output_type": "execute_result"
    }
   ],
   "source": [
    "stones = [125, 17] # example\n",
    "for t in range(6):\n",
    "    stones = blink(stones)\n",
    "len(stones)"
   ]
  },
  {
   "cell_type": "code",
   "execution_count": 19,
   "metadata": {},
   "outputs": [
    {
     "data": {
      "text/plain": [
       "55312"
      ]
     },
     "execution_count": 19,
     "metadata": {},
     "output_type": "execute_result"
    }
   ],
   "source": [
    "stones = [125, 17] # example\n",
    "for t in range(25):\n",
    "    stones = blink(stones)\n",
    "len(stones)"
   ]
  },
  {
   "cell_type": "code",
   "execution_count": null,
   "metadata": {},
   "outputs": [],
   "source": [
    "# done"
   ]
  }
 ],
 "metadata": {
  "kernelspec": {
   "display_name": "Python 3",
   "language": "python",
   "name": "python3"
  },
  "language_info": {
   "codemirror_mode": {
    "name": "ipython",
    "version": 3
   },
   "file_extension": ".py",
   "mimetype": "text/x-python",
   "name": "python",
   "nbconvert_exporter": "python",
   "pygments_lexer": "ipython3",
   "version": "3.12.0"
  }
 },
 "nbformat": 4,
 "nbformat_minor": 2
}
