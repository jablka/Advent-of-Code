{
 "cells": [
  {
   "cell_type": "code",
   "execution_count": 27,
   "metadata": {},
   "outputs": [],
   "source": [
    "import re\n",
    "import pprint\n",
    "\n",
    "with open(\"input.txt\", encoding=\"utf-8\") as f:\n",
    "    data = f.read()\n",
    "splitted = data.strip().splitlines()\n",
    "splitted[0] = '$ cd root' # natvrdo zrušiť ten character '/'"
   ]
  },
  {
   "cell_type": "code",
   "execution_count": 28,
   "metadata": {},
   "outputs": [
    {
     "name": "stdout",
     "output_type": "stream",
     "text": [
      "counter = 184\n",
      "184\n"
     ]
    }
   ],
   "source": [
    "# máme mená aj počet directories\n",
    "ppath = dict()\n",
    "nazov = ''\n",
    "counter = 0\n",
    "for line in splitted:\n",
    "    kdesme = splitted.index(line)\n",
    "    if line.startswith('$ cd') and (line != '$ cd ..'):\n",
    "        nazov = line\n",
    "        ppath[counter] = { \"nazov\": nazov , \"file_size\" : [ ] , \"sum\":0 , \"file\" : [ ] , \"dirs\" : [] , \"cumm\":0 } \n",
    "        counter += 1\n",
    "\n",
    "print(\"counter =\",counter)\n",
    "print(len(ppath))\n",
    "assert len(ppath) == 184"
   ]
  },
  {
   "cell_type": "code",
   "execution_count": 29,
   "metadata": {},
   "outputs": [
    {
     "name": "stdout",
     "output_type": "stream",
     "text": [
      "183\n"
     ]
    }
   ],
   "source": [
    "counter = 0\n",
    "for line in splitted:\n",
    "    if line.startswith('dir'):\n",
    "        counter += 1\n",
    "        \n",
    "print(counter)"
   ]
  },
  {
   "cell_type": "code",
   "execution_count": 30,
   "metadata": {},
   "outputs": [],
   "source": [
    "counter = -1\n",
    "for line in splitted:\n",
    "\n",
    "    if (line.startswith('$ cd')) and (line != '$ cd ..') : # názov adresára\n",
    "        counter += 1\n",
    "        dir_index = counter # splitted.index(line) # line # napr. '$ cd root'\n",
    "        # print(dir_index)\n",
    "    \n",
    "    if line == '$ ls':\n",
    "        pass\n",
    "    \n",
    "    if line.startswith('dir') == 'dir':\n",
    "       nazov_d = line[4:] # máme názov\n",
    "       ppath[dir_index]['dirs'].append(nazov_d)\n",
    "    \n",
    "    if line[0].isdecimal(): # súbor\n",
    "        najdene = re.match('\\d+', line) # file\n",
    "        najdene_size = int(najdene.group()) # meno resp. velkost suboru\n",
    "        # print(counter)\n",
    "        ppath[dir_index]['file_size'].append(najdene_size)\n",
    "        ppath[dir_index]['file'].append(line)\n",
    "        ppath[dir_index]['sum'] = sum(ppath[dir_index]['file_size'])"
   ]
  },
  {
   "cell_type": "code",
   "execution_count": 31,
   "metadata": {},
   "outputs": [],
   "source": [
    "# počiatočný cumm nastavíme na sum\n",
    "for i in ppath:\n",
    "    ppath[i]['cumm'] += ppath[i]['sum']"
   ]
  },
  {
   "cell_type": "code",
   "execution_count": 32,
   "metadata": {},
   "outputs": [
    {
     "name": "stdout",
     "output_type": "stream",
     "text": [
      "1\n"
     ]
    }
   ],
   "source": [
    "# buffer! jednoduchý\n",
    "buffer = [ ]\n",
    "counter = -1\n",
    "for line in splitted:\n",
    "        if (line.startswith('$ cd')) and (line != '$ cd ..') : # názov adresára\n",
    "            counter +=1\n",
    "            index = counter\n",
    "            buffer.append(index)\n",
    "            # print(buffer)\n",
    "\n",
    "        if (line == '$ cd ..'): \n",
    "            what = buffer.pop()\n",
    "            where = buffer[-1]          \n",
    "            # print(buffer)\n",
    "        \n",
    "        if (line == splitted[-1]):\n",
    "            for rollup in range(len(buffer)-1):\n",
    "                what = buffer.pop()\n",
    "                where = buffer[-1]\n",
    "                # print(buffer)\n",
    "\n",
    "print(len(buffer))"
   ]
  },
  {
   "cell_type": "code",
   "execution_count": 33,
   "metadata": {},
   "outputs": [
    {
     "name": "stdout",
     "output_type": "stream",
     "text": [
      "1\n"
     ]
    }
   ],
   "source": [
    "# teraz zapracujem presuny size\n",
    "buffer = [ ]\n",
    "counter = -1\n",
    "for line in splitted:\n",
    "        if (line.startswith('$ cd')) and (line != '$ cd ..') : # názov adresára\n",
    "            counter += 1\n",
    "            index = counter\n",
    "            buffer.append(index)\n",
    "            # print(buffer)\n",
    "\n",
    "        if (line == '$ cd ..'): \n",
    "            # print(\"back!\")\n",
    "            what = buffer.pop()\n",
    "            where = buffer[-1]\n",
    "            # print(\"popping what\", what )\n",
    "            # print(\"popping where\", where)\n",
    "            \n",
    "            ppath[where]['cumm'] += ppath[what]['cumm'] # tu bolo 'sum'\n",
    "\n",
    "            # print(buffer)\n",
    "        \n",
    "        if (line == splitted[-1]):\n",
    "            for rollup in range(len(buffer)-1):\n",
    "                what = buffer.pop()\n",
    "                where = buffer[-1]\n",
    "                ppath[where]['cumm'] += ppath[what]['cumm']\n",
    "                # print(buffer)\n",
    "\n",
    "print(len(buffer))"
   ]
  },
  {
   "cell_type": "code",
   "execution_count": 34,
   "metadata": {},
   "outputs": [
    {
     "name": "stdout",
     "output_type": "stream",
     "text": [
      "vysledok1: 1423358\n"
     ]
    }
   ],
   "source": [
    "# najviac 100000\n",
    "vysledok = 0\n",
    "for i in ppath:\n",
    "    if ppath[i]['cumm'] <= 100000:\n",
    "        vysledok += ppath[i]['cumm']\n",
    "\n",
    "print(\"vysledok1:\", vysledok)"
   ]
  },
  {
   "attachments": {},
   "cell_type": "markdown",
   "metadata": {},
   "source": [
    "# Part2:"
   ]
  },
  {
   "cell_type": "code",
   "execution_count": 35,
   "metadata": {},
   "outputs": [
    {
     "name": "stdout",
     "output_type": "stream",
     "text": [
      "disc_size: 70,000,000\n",
      "occupied: 40,532,950\n",
      "unused: 29,467,050\n",
      "space_needed: 30,000,000\n",
      "needed: 532,950\n"
     ]
    }
   ],
   "source": [
    "# f'{1000000:,}'\n",
    "\n",
    "disc_size = 70000000\n",
    "print(f\"disc_size: {disc_size:,}\")\n",
    "\n",
    "total_cumm = ppath[0]['cumm']\n",
    "print(f\"occupied: {total_cumm:,}\")\n",
    "\n",
    "unused = disc_size - total_cumm # 70 000 000\n",
    "print(f\"unused: {unused:,}\")\n",
    "\n",
    "space_needed = 30000000\n",
    "needed = space_needed - unused # 30 000 000\n",
    "print(f\"space_needed: {space_needed:,}\")\n",
    "print(f\"needed: {needed:,}\")"
   ]
  },
  {
   "cell_type": "code",
   "execution_count": 36,
   "metadata": {},
   "outputs": [
    {
     "name": "stdout",
     "output_type": "stream",
     "text": [
      "vysledok2 = 545729\n"
     ]
    }
   ],
   "source": [
    "mlist = [ ]\n",
    "for i in ppath:\n",
    "    if ppath[i]['cumm'] > needed:\n",
    "        # print(ppath[i]['cumm'])\n",
    "        mlist.append(ppath[i]['cumm'])\n",
    "\n",
    "# print(mlist)\n",
    "vysledok2 = min(mlist)\n",
    "print(\"vysledok2 =\", vysledok2)"
   ]
  }
 ],
 "metadata": {
  "kernelspec": {
   "display_name": "Python 3",
   "language": "python",
   "name": "python3"
  },
  "language_info": {
   "codemirror_mode": {
    "name": "ipython",
    "version": 3
   },
   "file_extension": ".py",
   "mimetype": "text/x-python",
   "name": "python",
   "nbconvert_exporter": "python",
   "pygments_lexer": "ipython3",
   "version": "3.11.1 (tags/v3.11.1:a7a450f, Dec  6 2022, 19:58:39) [MSC v.1934 64 bit (AMD64)]"
  },
  "orig_nbformat": 4,
  "vscode": {
   "interpreter": {
    "hash": "52634da84371cba311ea128a5ea7cdc41ff074b781779e754b270ff9f8153cee"
   }
  }
 },
 "nbformat": 4,
 "nbformat_minor": 2
}
