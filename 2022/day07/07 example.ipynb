{
 "cells": [
  {
   "cell_type": "code",
   "execution_count": 16,
   "metadata": {},
   "outputs": [],
   "source": [
    "import re\n",
    "import pprint\n",
    "\n",
    "data = '''\n",
    "$ cd /\n",
    "$ ls\n",
    "dir a\n",
    "14848514 b.txt\n",
    "8504156 c.dat\n",
    "dir d\n",
    "$ cd a\n",
    "$ ls\n",
    "dir e\n",
    "29116 f\n",
    "2557 g\n",
    "62596 h.lst\n",
    "$ cd e\n",
    "$ ls\n",
    "584 i\n",
    "$ cd ..\n",
    "$ cd ..\n",
    "$ cd d\n",
    "$ ls\n",
    "4060174 j\n",
    "8033020 d.log\n",
    "5626152 d.ext\n",
    "7214296 k\n",
    "'''\n",
    "\n",
    "splitted = data.strip().splitlines()\n",
    "splitted[0] = '$ cd root' # natvrdo zrušiť ten character '/' "
   ]
  },
  {
   "cell_type": "code",
   "execution_count": 17,
   "metadata": {},
   "outputs": [
    {
     "data": {
      "text/plain": [
       "['$ cd root',\n",
       " '$ ls',\n",
       " 'dir a',\n",
       " '14848514 b.txt',\n",
       " '8504156 c.dat',\n",
       " 'dir d',\n",
       " '$ cd a',\n",
       " '$ ls',\n",
       " 'dir e',\n",
       " '29116 f',\n",
       " '2557 g',\n",
       " '62596 h.lst',\n",
       " '$ cd e',\n",
       " '$ ls',\n",
       " '584 i',\n",
       " '$ cd ..',\n",
       " '$ cd ..',\n",
       " '$ cd d',\n",
       " '$ ls',\n",
       " '4060174 j',\n",
       " '8033020 d.log',\n",
       " '5626152 d.ext',\n",
       " '7214296 k']"
      ]
     },
     "execution_count": 17,
     "metadata": {},
     "output_type": "execute_result"
    }
   ],
   "source": [
    "splitted"
   ]
  },
  {
   "cell_type": "code",
   "execution_count": 18,
   "metadata": {},
   "outputs": [
    {
     "name": "stdout",
     "output_type": "stream",
     "text": [
      "counter = 4\n",
      "4\n"
     ]
    }
   ],
   "source": [
    "# máme mená aj počet directories\n",
    "ppath = dict()\n",
    "nazov = ''\n",
    "counter = 0\n",
    "for line in splitted:\n",
    "    kdesme = splitted.index(line)\n",
    "    if line.startswith('$ cd') and (line != '$ cd ..'):\n",
    "        nazov = line\n",
    "        ppath[counter] = { \"nazov\": nazov , \"file_size\" : [ ] , \"sum\":0 , \"file\" : [ ] , \"dirs\" : [] , \"cumm\":0 } \n",
    "        counter += 1\n",
    "\n",
    "print(\"counter =\",counter)\n",
    "print(len(ppath))\n",
    "assert len(ppath) == 4\n",
    "# assert len(ppath) == 184"
   ]
  },
  {
   "cell_type": "code",
   "execution_count": 19,
   "metadata": {},
   "outputs": [
    {
     "data": {
      "text/plain": [
       "{0: {'nazov': '$ cd root',\n",
       "  'file_size': [],\n",
       "  'sum': 0,\n",
       "  'file': [],\n",
       "  'dirs': [],\n",
       "  'cumm': 0},\n",
       " 1: {'nazov': '$ cd a',\n",
       "  'file_size': [],\n",
       "  'sum': 0,\n",
       "  'file': [],\n",
       "  'dirs': [],\n",
       "  'cumm': 0},\n",
       " 2: {'nazov': '$ cd e',\n",
       "  'file_size': [],\n",
       "  'sum': 0,\n",
       "  'file': [],\n",
       "  'dirs': [],\n",
       "  'cumm': 0},\n",
       " 3: {'nazov': '$ cd d',\n",
       "  'file_size': [],\n",
       "  'sum': 0,\n",
       "  'file': [],\n",
       "  'dirs': [],\n",
       "  'cumm': 0}}"
      ]
     },
     "execution_count": 19,
     "metadata": {},
     "output_type": "execute_result"
    }
   ],
   "source": [
    "ppath"
   ]
  },
  {
   "cell_type": "code",
   "execution_count": 20,
   "metadata": {},
   "outputs": [
    {
     "name": "stdout",
     "output_type": "stream",
     "text": [
      "3\n"
     ]
    }
   ],
   "source": [
    "counter = 0\n",
    "for line in splitted:\n",
    "    if line.startswith('dir'):\n",
    "        counter += 1\n",
    "        \n",
    "print(counter)"
   ]
  },
  {
   "cell_type": "code",
   "execution_count": 21,
   "metadata": {},
   "outputs": [
    {
     "name": "stdout",
     "output_type": "stream",
     "text": [
      "0\n",
      "0\n",
      "0\n",
      "1\n",
      "1\n",
      "1\n",
      "1\n",
      "2\n",
      "2\n",
      "3\n",
      "3\n",
      "3\n",
      "3\n",
      "3\n"
     ]
    }
   ],
   "source": [
    "counter = -1\n",
    "for line in splitted:\n",
    "\n",
    "    if (line.startswith('$ cd')) and (line != '$ cd ..') : # názov adresára\n",
    "        counter += 1\n",
    "        dir_index = counter # splitted.index(line) # line # napr. '$ cd root'\n",
    "        print(dir_index)\n",
    "    \n",
    "    if line == '$ ls':\n",
    "        pass\n",
    "    \n",
    "    if line.startswith('dir') == 'dir':\n",
    "       nazov_d = line[4:] # máme názov\n",
    "       ppath[dir_index]['dirs'].append(nazov_d)\n",
    "    \n",
    "    if line[0].isdecimal(): # súbor\n",
    "        najdene = re.match('\\d+', line) # file\n",
    "        najdene_size = int(najdene.group()) # meno resp. velkost suboru\n",
    "        print(counter)\n",
    "        ppath[dir_index]['file_size'].append(najdene_size)\n",
    "        ppath[dir_index]['file'].append(line)\n",
    "        ppath[dir_index]['sum'] = sum(ppath[dir_index]['file_size'])"
   ]
  },
  {
   "cell_type": "code",
   "execution_count": 22,
   "metadata": {},
   "outputs": [],
   "source": [
    "# počiatočný cumm nastavíme na sum\n",
    "for i in ppath:\n",
    "    ppath[i]['cumm'] += ppath[i]['sum']"
   ]
  },
  {
   "cell_type": "code",
   "execution_count": 23,
   "metadata": {},
   "outputs": [
    {
     "name": "stdout",
     "output_type": "stream",
     "text": [
      "{0: {'cumm': 23352670,\n",
      "     'dirs': [],\n",
      "     'file': ['14848514 b.txt', '8504156 c.dat'],\n",
      "     'file_size': [14848514, 8504156],\n",
      "     'nazov': '$ cd root',\n",
      "     'sum': 23352670},\n",
      " 1: {'cumm': 94269,\n",
      "     'dirs': [],\n",
      "     'file': ['29116 f', '2557 g', '62596 h.lst'],\n",
      "     'file_size': [29116, 2557, 62596],\n",
      "     'nazov': '$ cd a',\n",
      "     'sum': 94269},\n",
      " 2: {'cumm': 584,\n",
      "     'dirs': [],\n",
      "     'file': ['584 i'],\n",
      "     'file_size': [584],\n",
      "     'nazov': '$ cd e',\n",
      "     'sum': 584},\n",
      " 3: {'cumm': 24933642,\n",
      "     'dirs': [],\n",
      "     'file': ['4060174 j', '8033020 d.log', '5626152 d.ext', '7214296 k'],\n",
      "     'file_size': [4060174, 8033020, 5626152, 7214296],\n",
      "     'nazov': '$ cd d',\n",
      "     'sum': 24933642}}\n"
     ]
    }
   ],
   "source": [
    "pprint.pprint(ppath)"
   ]
  },
  {
   "cell_type": "code",
   "execution_count": 24,
   "metadata": {},
   "outputs": [
    {
     "name": "stdout",
     "output_type": "stream",
     "text": [
      "[0]\n",
      "[0, 1]\n",
      "[0, 1, 2]\n",
      "[0, 1]\n",
      "[0]\n",
      "[0, 3]\n",
      "[0]\n",
      "1\n"
     ]
    }
   ],
   "source": [
    "# buffer! jednoduchý\n",
    "buffer = [ ]\n",
    "counter = -1\n",
    "for line in splitted:\n",
    "        if (line.startswith('$ cd')) and (line != '$ cd ..') : # názov adresára\n",
    "            counter +=1\n",
    "            index = counter\n",
    "            buffer.append(index)\n",
    "            print(buffer)\n",
    "\n",
    "        if (line == '$ cd ..'): \n",
    "            what = buffer.pop()\n",
    "            where = buffer[-1]           \n",
    "            print(buffer)\n",
    "        \n",
    "        if (line == splitted[-1]):\n",
    "            for rollup in range(len(buffer)-1):\n",
    "                what = buffer.pop()\n",
    "                where = buffer[-1]\n",
    "                print(buffer)\n",
    "\n",
    "print(len(buffer))"
   ]
  },
  {
   "cell_type": "code",
   "execution_count": 25,
   "metadata": {},
   "outputs": [
    {
     "name": "stdout",
     "output_type": "stream",
     "text": [
      "[0]\n",
      "[0, 1]\n",
      "[0, 1, 2]\n",
      "back!\n",
      "popping what 2\n",
      "popping where 1\n",
      "[0, 1]\n",
      "back!\n",
      "popping what 1\n",
      "popping where 0\n",
      "[0]\n",
      "[0, 3]\n",
      "[0]\n",
      "1\n"
     ]
    }
   ],
   "source": [
    "# teraz zapracujem presuny size\n",
    "buffer = [ ]\n",
    "counter = -1\n",
    "for line in splitted:\n",
    "        if (line.startswith('$ cd')) and (line != '$ cd ..') : # názov adresára\n",
    "            counter += 1\n",
    "            index = counter\n",
    "            buffer.append(index)\n",
    "            print(buffer)\n",
    "\n",
    "        if (line == '$ cd ..'): \n",
    "            print(\"back!\")\n",
    "            what = buffer.pop()\n",
    "            where = buffer[-1]\n",
    "            print(\"popping what\", what )\n",
    "            print(\"popping where\", where)\n",
    "            \n",
    "            ppath[where]['cumm'] += ppath[what]['cumm'] # tu bolo 'sum'\n",
    "\n",
    "            print(buffer)\n",
    "        \n",
    "        if (line == splitted[-1]):\n",
    "            for rollup in range(len(buffer)-1):\n",
    "                what = buffer.pop()\n",
    "                where = buffer[-1]\n",
    "                ppath[where]['cumm'] += ppath[what]['cumm']\n",
    "                print(buffer)\n",
    "\n",
    "print(len(buffer))"
   ]
  },
  {
   "cell_type": "code",
   "execution_count": 26,
   "metadata": {},
   "outputs": [
    {
     "name": "stdout",
     "output_type": "stream",
     "text": [
      "{0: {'cumm': 48381165,\n",
      "     'dirs': [],\n",
      "     'file': ['14848514 b.txt', '8504156 c.dat'],\n",
      "     'file_size': [14848514, 8504156],\n",
      "     'nazov': '$ cd root',\n",
      "     'sum': 23352670},\n",
      " 1: {'cumm': 94853,\n",
      "     'dirs': [],\n",
      "     'file': ['29116 f', '2557 g', '62596 h.lst'],\n",
      "     'file_size': [29116, 2557, 62596],\n",
      "     'nazov': '$ cd a',\n",
      "     'sum': 94269},\n",
      " 2: {'cumm': 584,\n",
      "     'dirs': [],\n",
      "     'file': ['584 i'],\n",
      "     'file_size': [584],\n",
      "     'nazov': '$ cd e',\n",
      "     'sum': 584},\n",
      " 3: {'cumm': 24933642,\n",
      "     'dirs': [],\n",
      "     'file': ['4060174 j', '8033020 d.log', '5626152 d.ext', '7214296 k'],\n",
      "     'file_size': [4060174, 8033020, 5626152, 7214296],\n",
      "     'nazov': '$ cd d',\n",
      "     'sum': 24933642}}\n"
     ]
    }
   ],
   "source": [
    "pprint.pprint(ppath)"
   ]
  },
  {
   "cell_type": "code",
   "execution_count": 27,
   "metadata": {},
   "outputs": [
    {
     "name": "stdout",
     "output_type": "stream",
     "text": [
      "{'nazov': '$ cd a', 'file_size': [29116, 2557, 62596], 'sum': 94269, 'file': ['29116 f', '2557 g', '62596 h.lst'], 'dirs': [], 'cumm': 94853}\n",
      "{'nazov': '$ cd e', 'file_size': [584], 'sum': 584, 'file': ['584 i'], 'dirs': [], 'cumm': 584}\n"
     ]
    }
   ],
   "source": [
    "# najviac 100000\n",
    "for i in ppath:\n",
    "    if ppath[i]['cumm'] <= 100000:\n",
    "        print(ppath[i])"
   ]
  },
  {
   "cell_type": "code",
   "execution_count": 28,
   "metadata": {},
   "outputs": [
    {
     "name": "stdout",
     "output_type": "stream",
     "text": [
      "vysledok1: 95437\n"
     ]
    }
   ],
   "source": [
    "# najviac 100000\n",
    "vysledok = 0\n",
    "for i in ppath:\n",
    "    if ppath[i]['cumm'] <= 100000:\n",
    "        vysledok += ppath[i]['cumm']\n",
    "\n",
    "print(\"vysledok1:\", vysledok)\n",
    "assert vysledok == 95437"
   ]
  },
  {
   "attachments": {},
   "cell_type": "markdown",
   "metadata": {},
   "source": [
    "# Part2:"
   ]
  },
  {
   "cell_type": "code",
   "execution_count": 29,
   "metadata": {},
   "outputs": [
    {
     "name": "stdout",
     "output_type": "stream",
     "text": [
      "disc_size: 70,000,000\n",
      "occupied: 48,381,165\n",
      "unused: 21,618,835\n",
      "space_needed: 30,000,000\n",
      "needed: 8,381,165\n"
     ]
    }
   ],
   "source": [
    "# f'{1000000:,}'\n",
    "\n",
    "disc_size = 70000000\n",
    "print(f\"disc_size: {disc_size:,}\")\n",
    "\n",
    "total_cumm = ppath[0]['cumm']\n",
    "print(f\"occupied: {total_cumm:,}\")\n",
    "\n",
    "unused = disc_size - total_cumm # 70 000 000\n",
    "print(f\"unused: {unused:,}\")\n",
    "\n",
    "space_needed = 30000000\n",
    "needed = space_needed - unused # 30 000 000\n",
    "print(f\"space_needed: {space_needed:,}\")\n",
    "print(f\"needed: {needed:,}\")\n",
    "\n",
    "assert needed == 8381165"
   ]
  },
  {
   "cell_type": "code",
   "execution_count": 30,
   "metadata": {},
   "outputs": [
    {
     "name": "stdout",
     "output_type": "stream",
     "text": [
      "vysledok2 = 24933642\n"
     ]
    }
   ],
   "source": [
    "mlist = [ ]\n",
    "for i in ppath:\n",
    "    if ppath[i]['cumm'] > needed:\n",
    "        # print(ppath[i]['cumm'])\n",
    "        mlist.append(ppath[i]['cumm'])\n",
    "\n",
    "# print(mlist)\n",
    "vysledok2 = min(mlist)\n",
    "assert vysledok2 == 24933642\n",
    "print(\"vysledok2 =\", vysledok2)"
   ]
  }
 ],
 "metadata": {
  "kernelspec": {
   "display_name": "Python 3",
   "language": "python",
   "name": "python3"
  },
  "language_info": {
   "codemirror_mode": {
    "name": "ipython",
    "version": 3
   },
   "file_extension": ".py",
   "mimetype": "text/x-python",
   "name": "python",
   "nbconvert_exporter": "python",
   "pygments_lexer": "ipython3",
   "version": "3.11.1"
  },
  "orig_nbformat": 4,
  "vscode": {
   "interpreter": {
    "hash": "52634da84371cba311ea128a5ea7cdc41ff074b781779e754b270ff9f8153cee"
   }
  }
 },
 "nbformat": 4,
 "nbformat_minor": 2
}
