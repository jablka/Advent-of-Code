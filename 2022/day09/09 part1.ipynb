{
 "cells": [
  {
   "cell_type": "code",
   "execution_count": 1,
   "metadata": {},
   "outputs": [],
   "source": [
    "data = '''R 4\n",
    "U 4\n",
    "L 3\n",
    "D 1\n",
    "R 4\n",
    "D 1\n",
    "L 5\n",
    "R 2\n",
    "'''"
   ]
  },
  {
   "cell_type": "code",
   "execution_count": 2,
   "metadata": {},
   "outputs": [],
   "source": [
    "with open(\"input.txt\", encoding=\"utf-8\") as f:\n",
    "    data = f.read()"
   ]
  },
  {
   "cell_type": "code",
   "execution_count": 3,
   "metadata": {},
   "outputs": [],
   "source": [
    "data = data.strip().splitlines()"
   ]
  },
  {
   "cell_type": "code",
   "execution_count": 4,
   "metadata": {},
   "outputs": [],
   "source": [
    "directions = [ ]\n",
    "for instruction in data:\n",
    "    where = instruction[0]\n",
    "    howmany = int(instruction[2:])\n",
    "    directions.append( (where, howmany) )"
   ]
  },
  {
   "cell_type": "code",
   "execution_count": 5,
   "metadata": {},
   "outputs": [],
   "source": [
    "# pohyby\n",
    "# step (H)\n",
    "# follow (T)\n",
    "\n",
    "# Tail sa hýbe iba vtedy, keď sa Head pohla o viac než 1.\n",
    "mapaH = [ ]\n",
    "head_x = 0\n",
    "head_y = 0\n",
    "mapaH.append( (head_x,head_y) )\n",
    "\n",
    "mapaT = [ ]\n",
    "tail_x = 0\n",
    "tail_y = 0\n",
    "mapaT.append( (tail_x,tail_y) )\n",
    "\n",
    "for dir in directions:\n",
    "    \n",
    "    match dir[0]:\n",
    "        case 'R':\n",
    "            for i in range(dir[1]):\n",
    "                head_x += 1\n",
    "                mapaH.append( (head_x,head_y) )\n",
    "\n",
    "                if abs(head_x-tail_x) > 1 and (head_y != tail_y): # diagonál pohyb!\n",
    "                    tail_x += 1 \n",
    "                    tail_y = head_y # druhú súradnicu dorovná\n",
    "\n",
    "                elif abs(head_x-tail_x) > 1 and (head_y == tail_y): # sú v jednom stĺpci\n",
    "                    tail_x += 1    # nasleduje pohyb\n",
    "                \n",
    "                mapaT.append( (tail_x,tail_y) )\n",
    "\n",
    "        case 'L':\n",
    "            for i in range(dir[1]):\n",
    "                head_x -= 1\n",
    "                mapaH.append( (head_x,head_y) )\n",
    "\n",
    "                if abs(head_x-tail_x) > 1 and (head_y != tail_y): # diagonál pohyb!\n",
    "                    tail_x -= 1 \n",
    "                    tail_y = head_y # druhú súradnicu dorovná\n",
    "\n",
    "                elif abs(head_x-tail_x) > 1 and (head_y == tail_y): # sú v jednom stĺpci\n",
    "                    tail_x -= 1    # nasleduje pohyb\n",
    "\n",
    "                mapaT.append( (tail_x,tail_y) )\n",
    "\n",
    "        case 'U':\n",
    "            for i in range(dir[1]):\n",
    "                head_y += 1\n",
    "                mapaH.append( (head_x,head_y) )\n",
    "                \n",
    "                if abs(head_y-tail_y) > 1 and (head_x != tail_x): # diagonál pohyb!\n",
    "                    tail_y += 1 \n",
    "                    tail_x = head_x # druhú súradnicu dorovná\n",
    "\n",
    "                elif abs(head_y-tail_y) > 1 and (head_x == tail_x): # sú v jednom stĺpci\n",
    "                    tail_y += 1    # nasleduje pohyb\n",
    "\n",
    "                mapaT.append( (tail_x,tail_y) )\n",
    "\n",
    "        case 'D':\n",
    "            for i in range(dir[1]):\n",
    "                head_y -= 1\n",
    "                mapaH.append( (head_x,head_y) )\n",
    "\n",
    "                if abs(head_y-tail_y) > 1 and (head_x != tail_x): # diagonál pohyb!\n",
    "                    tail_y -= 1 \n",
    "                    tail_x = head_x # druhú súradnicu dorovná\n",
    "\n",
    "                elif abs(head_y-tail_y) > 1 and (head_x == tail_x): # sú v jednom stĺpci\n",
    "                    tail_y -= 1    # nasleduje pohyb\n",
    "                    \n",
    "                mapaT.append( (tail_x,tail_y) )"
   ]
  },
  {
   "cell_type": "code",
   "execution_count": 6,
   "metadata": {},
   "outputs": [],
   "source": [
    "myset = set(mapaT)"
   ]
  },
  {
   "cell_type": "code",
   "execution_count": 7,
   "metadata": {},
   "outputs": [
    {
     "name": "stdout",
     "output_type": "stream",
     "text": [
      "6026\n"
     ]
    }
   ],
   "source": [
    "vysledok = len(myset)\n",
    "print(vysledok)"
   ]
  }
 ],
 "metadata": {
  "kernelspec": {
   "display_name": "Python 3",
   "language": "python",
   "name": "python3"
  },
  "language_info": {
   "codemirror_mode": {
    "name": "ipython",
    "version": 3
   },
   "file_extension": ".py",
   "mimetype": "text/x-python",
   "name": "python",
   "nbconvert_exporter": "python",
   "pygments_lexer": "ipython3",
   "version": "3.11.1"
  },
  "orig_nbformat": 4,
  "vscode": {
   "interpreter": {
    "hash": "52634da84371cba311ea128a5ea7cdc41ff074b781779e754b270ff9f8153cee"
   }
  }
 },
 "nbformat": 4,
 "nbformat_minor": 2
}
