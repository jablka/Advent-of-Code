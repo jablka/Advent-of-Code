{
 "cells": [
  {
   "cell_type": "code",
   "execution_count": 1,
   "metadata": {},
   "outputs": [],
   "source": [
    "import re"
   ]
  },
  {
   "cell_type": "code",
   "execution_count": 2,
   "metadata": {},
   "outputs": [],
   "source": [
    "data = '''\n",
    "noop\n",
    "addx 3\n",
    "addx -5\n",
    "'''"
   ]
  },
  {
   "cell_type": "code",
   "execution_count": 3,
   "metadata": {},
   "outputs": [],
   "source": [
    "data = '''\n",
    "noop\n",
    "noop\n",
    "addx 5\n",
    "addx 3\n",
    "addx -2\n",
    "noop\n",
    "addx 5\n",
    "addx 4\n",
    "noop\n",
    "addx 3\n",
    "noop\n",
    "addx 2\n",
    "addx -17\n",
    "addx 18\n",
    "addx 3\n",
    "addx 1\n",
    "noop\n",
    "addx 5\n",
    "noop\n",
    "addx 1\n",
    "addx 2\n",
    "addx 5\n",
    "addx -40\n",
    "noop\n",
    "addx 5\n",
    "addx 2\n",
    "addx 3\n",
    "noop\n",
    "addx 2\n",
    "addx 3\n",
    "addx -2\n",
    "addx 2\n",
    "addx 2\n",
    "noop\n",
    "addx 3\n",
    "addx 5\n",
    "addx 2\n",
    "addx 3\n",
    "addx -2\n",
    "addx 2\n",
    "addx -24\n",
    "addx 31\n",
    "addx 2\n",
    "addx -33\n",
    "addx -6\n",
    "addx 5\n",
    "addx 2\n",
    "addx 3\n",
    "noop\n",
    "addx 2\n",
    "addx 3\n",
    "noop\n",
    "addx 2\n",
    "addx -1\n",
    "addx 6\n",
    "noop\n",
    "noop\n",
    "addx 1\n",
    "addx 4\n",
    "noop\n",
    "noop\n",
    "addx -15\n",
    "addx 20\n",
    "noop\n",
    "addx -23\n",
    "addx 27\n",
    "noop\n",
    "addx -35\n",
    "addx 1\n",
    "noop\n",
    "noop\n",
    "addx 5\n",
    "addx 11\n",
    "addx -10\n",
    "addx 4\n",
    "addx 1\n",
    "noop\n",
    "addx 2\n",
    "addx 2\n",
    "noop\n",
    "addx 3\n",
    "noop\n",
    "addx 3\n",
    "addx 2\n",
    "noop\n",
    "addx 3\n",
    "addx 2\n",
    "addx 11\n",
    "addx -4\n",
    "addx 2\n",
    "addx -38\n",
    "addx -1\n",
    "addx 2\n",
    "noop\n",
    "addx 3\n",
    "addx 5\n",
    "addx 2\n",
    "addx -7\n",
    "addx 8\n",
    "addx 2\n",
    "addx 2\n",
    "noop\n",
    "addx 3\n",
    "addx 5\n",
    "addx 2\n",
    "addx -25\n",
    "addx 26\n",
    "addx 2\n",
    "addx 8\n",
    "addx -1\n",
    "addx 2\n",
    "addx -2\n",
    "addx -37\n",
    "addx 5\n",
    "addx 3\n",
    "addx -1\n",
    "addx 5\n",
    "noop\n",
    "addx 22\n",
    "addx -21\n",
    "addx 2\n",
    "addx 5\n",
    "addx 2\n",
    "addx 13\n",
    "addx -12\n",
    "addx 4\n",
    "noop\n",
    "noop\n",
    "addx 5\n",
    "addx 1\n",
    "noop\n",
    "noop\n",
    "addx 2\n",
    "noop\n",
    "addx 3\n",
    "noop\n",
    "noop\n",
    "'''"
   ]
  },
  {
   "cell_type": "code",
   "execution_count": 4,
   "metadata": {},
   "outputs": [],
   "source": [
    "data = data.strip().splitlines()"
   ]
  },
  {
   "cell_type": "code",
   "execution_count": 5,
   "metadata": {},
   "outputs": [],
   "source": [
    "registerX = 1\n",
    "cycle = 1"
   ]
  },
  {
   "cell_type": "code",
   "execution_count": 6,
   "metadata": {},
   "outputs": [],
   "source": [
    "cycles = [20, 60, 100, 140, 180, 220]"
   ]
  },
  {
   "cell_type": "code",
   "execution_count": 7,
   "metadata": {},
   "outputs": [],
   "source": [
    "x_value = [ ]"
   ]
  },
  {
   "cell_type": "code",
   "execution_count": 8,
   "metadata": {},
   "outputs": [],
   "source": [
    "i = 0\n",
    "ii = 0\n",
    "for c in range(1,221):\n",
    "    \n",
    "    match c:\n",
    "        case 20:\n",
    "            x_value.append((20,registerX))\n",
    "        case 60:\n",
    "            x_value.append((60,registerX))\n",
    "        case 100:\n",
    "            x_value.append((100,registerX))\n",
    "        case 140:\n",
    "            x_value.append((140,registerX))\n",
    "        case 180:    \n",
    "            x_value.append((180,registerX))\n",
    "        case 220:\n",
    "            x_value.append((220,registerX))   \n",
    "\n",
    "    if data[i] == 'noop':\n",
    "        i +=1\n",
    "    else: # addx\n",
    "        if ii == 0:\n",
    "            ii += 1\n",
    "        else:\n",
    "            najdene = re.search('-?\\d+', data[i]) # https://stackoverflow.com/questions/15814592/how-do-i-include-negative-decimal-numbers-in-this-regular-expression\n",
    "            najdene_cislo = int(najdene.group())\n",
    "            # print(\"addx, číslo\", najdene_cislo)\n",
    "            registerX = registerX + najdene_cislo\n",
    "            ii = 0\n",
    "            i +=1\n",
    "\n"
   ]
  },
  {
   "cell_type": "code",
   "execution_count": 9,
   "metadata": {},
   "outputs": [
    {
     "data": {
      "text/plain": [
       "[(20, 21), (60, 16), (100, 21), (140, 16), (180, 16), (220, 21)]"
      ]
     },
     "execution_count": 9,
     "metadata": {},
     "output_type": "execute_result"
    }
   ],
   "source": [
    "x_value"
   ]
  },
  {
   "cell_type": "code",
   "execution_count": 10,
   "metadata": {},
   "outputs": [],
   "source": [
    "nasobene = [ ]\n",
    "for i in x_value:\n",
    "    nasobene.append(i[0]*i[1])"
   ]
  },
  {
   "cell_type": "code",
   "execution_count": 11,
   "metadata": {},
   "outputs": [
    {
     "data": {
      "text/plain": [
       "13220"
      ]
     },
     "execution_count": 11,
     "metadata": {},
     "output_type": "execute_result"
    }
   ],
   "source": [
    "sum(nasobene)"
   ]
  }
 ],
 "metadata": {
  "kernelspec": {
   "display_name": "Python 3",
   "language": "python",
   "name": "python3"
  },
  "language_info": {
   "codemirror_mode": {
    "name": "ipython",
    "version": 3
   },
   "file_extension": ".py",
   "mimetype": "text/x-python",
   "name": "python",
   "nbconvert_exporter": "python",
   "pygments_lexer": "ipython3",
   "version": "3.11.1"
  },
  "orig_nbformat": 4,
  "vscode": {
   "interpreter": {
    "hash": "52634da84371cba311ea128a5ea7cdc41ff074b781779e754b270ff9f8153cee"
   }
  }
 },
 "nbformat": 4,
 "nbformat_minor": 2
}
