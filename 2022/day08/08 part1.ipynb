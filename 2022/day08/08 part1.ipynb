{
 "cells": [
  {
   "cell_type": "code",
   "execution_count": 1,
   "metadata": {},
   "outputs": [],
   "source": [
    "data = '''30373\n",
    "25512\n",
    "65332\n",
    "33549\n",
    "35390'''"
   ]
  },
  {
   "cell_type": "code",
   "execution_count": 2,
   "metadata": {},
   "outputs": [],
   "source": [
    "with open(\"input.txt\", encoding=\"utf-8\") as f:\n",
    "    data = f.read()"
   ]
  },
  {
   "cell_type": "code",
   "execution_count": 3,
   "metadata": {},
   "outputs": [],
   "source": [
    "data = data.strip().splitlines()"
   ]
  },
  {
   "cell_type": "code",
   "execution_count": 4,
   "metadata": {},
   "outputs": [],
   "source": [
    "x_cor = len(data[0])\n",
    "y_cor = len(data)"
   ]
  },
  {
   "cell_type": "code",
   "execution_count": 5,
   "metadata": {},
   "outputs": [],
   "source": [
    "matrix = [ [ 0 for x in range(x_cor) ] for y in range(y_cor) ]"
   ]
  },
  {
   "cell_type": "code",
   "execution_count": 6,
   "metadata": {},
   "outputs": [],
   "source": [
    "for y, line in enumerate(data):\n",
    "    for i, pismeno in enumerate(line):\n",
    "        matrix[y][i] = int(pismeno) # pri indexovaní matrixu najprv je y, potom je x!"
   ]
  },
  {
   "cell_type": "code",
   "execution_count": 7,
   "metadata": {},
   "outputs": [
    {
     "name": "stdout",
     "output_type": "stream",
     "text": [
      "counter = 1533\n"
     ]
    }
   ],
   "source": [
    "counter = 0\n",
    "for y, line in enumerate(matrix): # os Y\n",
    "    if (y == 0) or (y == len(matrix)-1): # to sú krajné\n",
    "        counter += len(line) # pripočítame krajné riadky\n",
    "    else:\n",
    "        # pri letters po jednom! čiže os X\n",
    "        for x, letter in enumerate(line):\n",
    "            if x == 0 or x == len(line)-1: # to sú krajné !prerobiť na indexy!\n",
    "                counter += 1 # pripočítame krajné písmená\n",
    "            else:\n",
    "                # a tu každé jedno písmeno porovnáť s v rôznych smeroch # up, down, left, right\n",
    "                # # či sú ostatné menšie.\n",
    "\n",
    "                # vpravo\n",
    "                buffer = [ ]\n",
    "                for hl in matrix[y][x+1:]: \n",
    "                    # print(\"čekujem oproti\", hl )\n",
    "                    if matrix[y][x] > hl:\n",
    "                        buffer.append(True)\n",
    "                        # print(buffer)\n",
    "                    else:\n",
    "                        buffer.append(False)\n",
    "                if buffer and all(buffer): # vyhodnotenie\n",
    "                    counter +=1\n",
    "                    # print(\"máme\", matrix[y][x])\n",
    "                    continue\n",
    "\n",
    "                # vlavo\n",
    "                buffer = [ ]\n",
    "                for hl in matrix[y][x-1::-1]: \n",
    "                    # print(\"čekujem oproti\", hl )\n",
    "                    if matrix[y][x] > hl:\n",
    "                        buffer.append(True)\n",
    "                    else:\n",
    "                        buffer.append(False)\n",
    "                if buffer and all(buffer): # vyhodnotenie\n",
    "                    counter +=1\n",
    "                    # print(\"máme\", matrix[y][x])\n",
    "                    continue\n",
    "\n",
    "                # hore\n",
    "                buffer = [ ]\n",
    "                for i in range(y-1,-1,-1):\n",
    "                    # print(\"čekujem oproti\", matrix[i][x] )\n",
    "                    if matrix[y][x] > matrix[i][x]:\n",
    "                        buffer.append(True)\n",
    "                        # print(buffer)\n",
    "                    else:\n",
    "                        buffer.append(False)\n",
    "                if buffer and all(buffer): # vyhodnotenie\n",
    "                    counter +=1\n",
    "                    # print(\"máme\", matrix[y][x])\n",
    "                    continue\n",
    "\n",
    "                # dole\n",
    "                buffer = [ ]\n",
    "                for i in range(y+1,y_cor):\n",
    "                    # print(\"čekujem oproti\", matrix[i][x] )\n",
    "                    if matrix[y][x] > matrix[i][x]:\n",
    "                        buffer.append(True)\n",
    "                        # print(buffer)\n",
    "                    else:\n",
    "                        buffer.append(False)\n",
    "                if buffer and all(buffer): # vyhodnotenie\n",
    "                    counter +=1\n",
    "                    # print(\"máme\", matrix[y][x])\n",
    "                    continue\n",
    "\n",
    "                # vpravo ... y = y, x = x+1\n",
    "                # vľavo ... y = y, x = x-1\n",
    "                # hore ... y = y-1, x = x\n",
    "                # dole ... y = y+1, x = x\n",
    "\n",
    "print(\"counter =\", counter) #"
   ]
  }
 ],
 "metadata": {
  "kernelspec": {
   "display_name": "Python 3",
   "language": "python",
   "name": "python3"
  },
  "language_info": {
   "codemirror_mode": {
    "name": "ipython",
    "version": 3
   },
   "file_extension": ".py",
   "mimetype": "text/x-python",
   "name": "python",
   "nbconvert_exporter": "python",
   "pygments_lexer": "ipython3",
   "version": "3.11.1"
  },
  "orig_nbformat": 4,
  "vscode": {
   "interpreter": {
    "hash": "52634da84371cba311ea128a5ea7cdc41ff074b781779e754b270ff9f8153cee"
   }
  }
 },
 "nbformat": 4,
 "nbformat_minor": 2
}
