{
 "cells": [
  {
   "cell_type": "code",
   "execution_count": 1,
   "metadata": {},
   "outputs": [],
   "source": [
    "data = '''30373\n",
    "25512\n",
    "65332\n",
    "33549\n",
    "35390'''"
   ]
  },
  {
   "cell_type": "code",
   "execution_count": 2,
   "metadata": {},
   "outputs": [],
   "source": [
    "with open(\"input.txt\", encoding=\"utf-8\") as f:\n",
    "    data = f.read()"
   ]
  },
  {
   "cell_type": "code",
   "execution_count": 3,
   "metadata": {},
   "outputs": [],
   "source": [
    "data = data.strip().splitlines()"
   ]
  },
  {
   "cell_type": "code",
   "execution_count": 4,
   "metadata": {},
   "outputs": [],
   "source": [
    "x_cor = len(data[0])\n",
    "y_cor = len(data)"
   ]
  },
  {
   "cell_type": "code",
   "execution_count": 5,
   "metadata": {},
   "outputs": [],
   "source": [
    "matrix = [ [ 0 for x in range(x_cor) ] for y in range(y_cor) ]"
   ]
  },
  {
   "cell_type": "code",
   "execution_count": 6,
   "metadata": {},
   "outputs": [],
   "source": [
    "for y, line in enumerate(data):\n",
    "    for i, pismeno in enumerate(line):\n",
    "        matrix[y][i] = int(pismeno) # pri indexovaní matrixu najprv je y, potom je x!"
   ]
  },
  {
   "cell_type": "code",
   "execution_count": 7,
   "metadata": {},
   "outputs": [],
   "source": [
    "counter = 0\n",
    "mapa = [ ]\n",
    "for y, line in enumerate(matrix):\n",
    "\n",
    "    if (y == 0):\n",
    "        for x, letter in enumerate(line):\n",
    "            mapa.append(0)\n",
    "\n",
    "    elif (y == len(matrix)-1):\n",
    "        for x, letter in enumerate(line):\n",
    "            mapa.append(0)\n",
    "\n",
    "    else:\n",
    "        for x, letter in enumerate(line):\n",
    "\n",
    "            if (x == 0):\n",
    "                mapa.append(0)\n",
    "                \n",
    "            elif (x == len(line)-1): # to sú krajné !prerobiť na indexy!\n",
    "                mapa.append(0)\n",
    "            \n",
    "            else:\n",
    "                # rovnaká výška sa počíta, ale vtedy sa zastavuje.\n",
    "                \n",
    "                # vpravo\n",
    "                buffer1 = 0\n",
    "                for b1 in matrix[y][x+1:]: \n",
    "                    if matrix[y][x] > b1:\n",
    "                        buffer1 += 1\n",
    "                    elif matrix[y][x] <= b1:\n",
    "                        buffer1 += 1\n",
    "                        break # von z cyklu smeru\n",
    "\n",
    "                # vlavo\n",
    "                buffer2 = 0\n",
    "                for b2 in matrix[y][x-1::-1]: \n",
    "                    if matrix[y][x] > b2:\n",
    "                        buffer2 +=1\n",
    "                    elif matrix[y][x] <= b2:\n",
    "                        buffer2 +=1\n",
    "                        break\n",
    "\n",
    "                # hore\n",
    "                buffer3 = 0\n",
    "                for b3 in range(y-1,-1,-1):\n",
    "                    if matrix[y][x] > matrix[b3][x]:\n",
    "                        buffer3 += 1\n",
    "                    elif matrix[y][x] <= matrix[b3][x]:\n",
    "                        buffer3 +=1\n",
    "                        break\n",
    "\n",
    "                # dole\n",
    "                buffer4 = 0\n",
    "                for b4 in range(y+1,y_cor):\n",
    "                    if matrix[y][x] > matrix[b4][x]:\n",
    "                        buffer4 +=1 \n",
    "                    elif matrix[y][x] <= matrix[b4][x]:\n",
    "                        buffer4 +=1\n",
    "                        break\n",
    "                    \n",
    "                # vyhodnotenie:\n",
    "                score = buffer1*buffer2*buffer3*buffer4\n",
    "                mapa.append(score)\n"
   ]
  },
  {
   "cell_type": "code",
   "execution_count": 8,
   "metadata": {},
   "outputs": [
    {
     "data": {
      "text/plain": [
       "345744"
      ]
     },
     "execution_count": 8,
     "metadata": {},
     "output_type": "execute_result"
    }
   ],
   "source": [
    "max(mapa)"
   ]
  }
 ],
 "metadata": {
  "kernelspec": {
   "display_name": "Python 3",
   "language": "python",
   "name": "python3"
  },
  "language_info": {
   "codemirror_mode": {
    "name": "ipython",
    "version": 3
   },
   "file_extension": ".py",
   "mimetype": "text/x-python",
   "name": "python",
   "nbconvert_exporter": "python",
   "pygments_lexer": "ipython3",
   "version": "3.11.1"
  },
  "orig_nbformat": 4,
  "vscode": {
   "interpreter": {
    "hash": "52634da84371cba311ea128a5ea7cdc41ff074b781779e754b270ff9f8153cee"
   }
  }
 },
 "nbformat": 4,
 "nbformat_minor": 2
}
